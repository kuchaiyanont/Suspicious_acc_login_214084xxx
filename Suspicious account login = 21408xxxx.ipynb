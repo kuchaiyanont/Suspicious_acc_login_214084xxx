{
 "cells": [
  {
   "cell_type": "markdown",
   "id": "a006676c",
   "metadata": {},
   "source": [
    "# Import Library"
   ]
  },
  {
   "cell_type": "code",
   "execution_count": 1,
   "id": "bebdab0a",
   "metadata": {},
   "outputs": [],
   "source": [
    "import numpy as np\n",
    "import pandas as pd\n",
    "import matplotlib.pyplot as plt\n",
    "import seaborn as sns\n",
    "from datetime import date\n",
    "import datetime\n",
    "\n",
    "import plotly.express as px\n",
    "import plotly.graph_objects as go\n",
    "import statistics as stat\n",
    "\n",
    "# from tensorflow.keras.layers import Input, Dense, LeakyReLU\n",
    "# from tensorflow.keras.models import Model, Sequential\n",
    "# from tensorflow.keras.optimizers import Adam\n",
    "# from tensorflow.keras.losses import MSE\n",
    "# from tensorflow.keras import regularizers\n",
    "# from tensorflow.keras.callbacks import EarlyStopping\n",
    "# from tensorflow.keras.layers import Dropout\n",
    "\n",
    "# from sklearn.model_selection import train_test_split\n",
    "# from sklearn.metrics import mean_squared_error, classification_report\n",
    "# from sklearn.linear_model import LogisticRegression\n",
    "# from sklearn.svm import SVC\n",
    "# from sklearn.tree import DecisionTreeClassifier\n",
    "# from sklearn.ensemble import GradientBoostingClassifier\n",
    "# from sklearn.ensemble import RandomForestClassifier\n",
    "# from sklearn.metrics import precision_score, recall_score, f1_score, roc_auc_score, accuracy_score, classification_report,plot_confusion_matrix, average_precision_score\n",
    "# from sklearn.metrics import confusion_matrix \n",
    "# from sklearn.model_selection import cross_val_score\n",
    "# from sklearn.model_selection import RandomizedSearchCV\n",
    "\n",
    "import collections\n",
    "# from imblearn.over_sampling import SMOTE\n",
    "# from sklearn.preprocessing import StandardScaler\n",
    "from scipy.stats import rankdata\n",
    "\n",
    "# from sklearn.metrics import roc_curve, auc\n",
    "# from sklearn.metrics import roc_auc_score\n",
    "\n",
    "from sklearn.decomposition import PCA\n",
    "\n",
    "\n",
    "%matplotlib inline\n",
    "sns.set_style('white')\n",
    "%config InlineBackend.figure_format = 'retina'"
   ]
  },
  {
   "cell_type": "markdown",
   "id": "114b19d8",
   "metadata": {},
   "source": [
    "# Import Data"
   ]
  },
  {
   "cell_type": "code",
   "execution_count": 71,
   "id": "ca221e6c",
   "metadata": {},
   "outputs": [
    {
     "data": {
      "text/html": [
       "<div>\n",
       "<style scoped>\n",
       "    .dataframe tbody tr th:only-of-type {\n",
       "        vertical-align: middle;\n",
       "    }\n",
       "\n",
       "    .dataframe tbody tr th {\n",
       "        vertical-align: top;\n",
       "    }\n",
       "\n",
       "    .dataframe thead th {\n",
       "        text-align: right;\n",
       "    }\n",
       "</style>\n",
       "<table border=\"1\" class=\"dataframe\">\n",
       "  <thead>\n",
       "    <tr style=\"text-align: right;\">\n",
       "      <th></th>\n",
       "      <th>Event Time</th>\n",
       "      <th>Event Type</th>\n",
       "      <th>Line of Business</th>\n",
       "      <th>Risk Rating</th>\n",
       "      <th>Policy Score</th>\n",
       "      <th>LexID Digital</th>\n",
       "      <th>Account Login</th>\n",
       "      <th>Account Number</th>\n",
       "      <th>Customer Event Type</th>\n",
       "      <th>Transaction Amount</th>\n",
       "      <th>LexID Digital Trust Score Rating</th>\n",
       "      <th>True IP</th>\n",
       "      <th>True IP Geo</th>\n",
       "      <th>Input IP</th>\n",
       "      <th>Input IP Country</th>\n",
       "      <th>Smart ID</th>\n",
       "      <th>Exact ID</th>\n",
       "      <th>Session ID</th>\n",
       "      <th>Custom Attribute 9</th>\n",
       "    </tr>\n",
       "  </thead>\n",
       "  <tbody>\n",
       "    <tr>\n",
       "      <th>0</th>\n",
       "      <td>2022-02-27 06:12:42</td>\n",
       "      <td>payment</td>\n",
       "      <td>ibanking</td>\n",
       "      <td>trusted</td>\n",
       "      <td>35</td>\n",
       "      <td>04f8529a4f1d42998cf554c807838d9b</td>\n",
       "      <td>214084229b0eb73cf23c424330ebaf7eeb785d14676b2a...</td>\n",
       "      <td>f6410ce1f426f16508e129a23117cb8eedfb3e8d9c5960...</td>\n",
       "      <td>existing_payment</td>\n",
       "      <td>50000</td>\n",
       "      <td>very_high</td>\n",
       "      <td>49.230.70.33</td>\n",
       "      <td>TH</td>\n",
       "      <td>49.230.70.33</td>\n",
       "      <td>thailand</td>\n",
       "      <td>b0c980225c624b638639683627a8f1f9</td>\n",
       "      <td>b0c980225c624b638639683627a8f1f9</td>\n",
       "      <td>d64676ae-7c09-430e-b657-77689bf1f4f3</td>\n",
       "      <td>6dd1059cde082c86b080d1d9b701d5ad40a6e4a2171d77...</td>\n",
       "    </tr>\n",
       "    <tr>\n",
       "      <th>1</th>\n",
       "      <td>2022-02-27 06:12:25</td>\n",
       "      <td>payment</td>\n",
       "      <td>ibanking</td>\n",
       "      <td>trusted</td>\n",
       "      <td>35</td>\n",
       "      <td>04f8529a4f1d42998cf554c807838d9b</td>\n",
       "      <td>214084229b0eb73cf23c424330ebaf7eeb785d14676b2a...</td>\n",
       "      <td>f6410ce1f426f16508e129a23117cb8eedfb3e8d9c5960...</td>\n",
       "      <td>existing_payment</td>\n",
       "      <td>50000</td>\n",
       "      <td>very_high</td>\n",
       "      <td>49.230.70.33</td>\n",
       "      <td>TH</td>\n",
       "      <td>49.230.70.33</td>\n",
       "      <td>thailand</td>\n",
       "      <td>b0c980225c624b638639683627a8f1f9</td>\n",
       "      <td>b0c980225c624b638639683627a8f1f9</td>\n",
       "      <td>29e0fa65-2609-45eb-83b6-82567b06f685</td>\n",
       "      <td>6dd1059cde082c86b080d1d9b701d5ad40a6e4a2171d77...</td>\n",
       "    </tr>\n",
       "    <tr>\n",
       "      <th>2</th>\n",
       "      <td>2022-02-27 06:12:07</td>\n",
       "      <td>payment</td>\n",
       "      <td>ibanking</td>\n",
       "      <td>trusted</td>\n",
       "      <td>35</td>\n",
       "      <td>04f8529a4f1d42998cf554c807838d9b</td>\n",
       "      <td>214084229b0eb73cf23c424330ebaf7eeb785d14676b2a...</td>\n",
       "      <td>f6410ce1f426f16508e129a23117cb8eedfb3e8d9c5960...</td>\n",
       "      <td>existing_payment</td>\n",
       "      <td>50000</td>\n",
       "      <td>very_high</td>\n",
       "      <td>49.230.70.33</td>\n",
       "      <td>TH</td>\n",
       "      <td>49.230.70.33</td>\n",
       "      <td>thailand</td>\n",
       "      <td>b0c980225c624b638639683627a8f1f9</td>\n",
       "      <td>b0c980225c624b638639683627a8f1f9</td>\n",
       "      <td>2737d42a-1895-4850-832f-da351af79b54</td>\n",
       "      <td>6dd1059cde082c86b080d1d9b701d5ad40a6e4a2171d77...</td>\n",
       "    </tr>\n",
       "    <tr>\n",
       "      <th>3</th>\n",
       "      <td>2022-02-27 06:11:52</td>\n",
       "      <td>payment</td>\n",
       "      <td>ibanking</td>\n",
       "      <td>trusted</td>\n",
       "      <td>35</td>\n",
       "      <td>04f8529a4f1d42998cf554c807838d9b</td>\n",
       "      <td>214084229b0eb73cf23c424330ebaf7eeb785d14676b2a...</td>\n",
       "      <td>f6410ce1f426f16508e129a23117cb8eedfb3e8d9c5960...</td>\n",
       "      <td>existing_payment</td>\n",
       "      <td>50000</td>\n",
       "      <td>very_high</td>\n",
       "      <td>49.230.70.33</td>\n",
       "      <td>TH</td>\n",
       "      <td>49.230.70.33</td>\n",
       "      <td>thailand</td>\n",
       "      <td>b0c980225c624b638639683627a8f1f9</td>\n",
       "      <td>b0c980225c624b638639683627a8f1f9</td>\n",
       "      <td>c9ac6942-9049-4227-bee9-4de4996fe618</td>\n",
       "      <td>6dd1059cde082c86b080d1d9b701d5ad40a6e4a2171d77...</td>\n",
       "    </tr>\n",
       "    <tr>\n",
       "      <th>4</th>\n",
       "      <td>2022-02-27 06:11:34</td>\n",
       "      <td>payment</td>\n",
       "      <td>ibanking</td>\n",
       "      <td>trusted</td>\n",
       "      <td>35</td>\n",
       "      <td>04f8529a4f1d42998cf554c807838d9b</td>\n",
       "      <td>214084229b0eb73cf23c424330ebaf7eeb785d14676b2a...</td>\n",
       "      <td>f6410ce1f426f16508e129a23117cb8eedfb3e8d9c5960...</td>\n",
       "      <td>existing_payment</td>\n",
       "      <td>50000</td>\n",
       "      <td>very_high</td>\n",
       "      <td>49.230.70.33</td>\n",
       "      <td>TH</td>\n",
       "      <td>49.230.70.33</td>\n",
       "      <td>thailand</td>\n",
       "      <td>b0c980225c624b638639683627a8f1f9</td>\n",
       "      <td>b0c980225c624b638639683627a8f1f9</td>\n",
       "      <td>63fd7f48-e292-4a15-91ef-1cfcd0ddd3e2</td>\n",
       "      <td>6dd1059cde082c86b080d1d9b701d5ad40a6e4a2171d77...</td>\n",
       "    </tr>\n",
       "  </tbody>\n",
       "</table>\n",
       "</div>"
      ],
      "text/plain": [
       "            Event Time Event Type Line of Business Risk Rating  Policy Score  \\\n",
       "0  2022-02-27 06:12:42    payment         ibanking     trusted            35   \n",
       "1  2022-02-27 06:12:25    payment         ibanking     trusted            35   \n",
       "2  2022-02-27 06:12:07    payment         ibanking     trusted            35   \n",
       "3  2022-02-27 06:11:52    payment         ibanking     trusted            35   \n",
       "4  2022-02-27 06:11:34    payment         ibanking     trusted            35   \n",
       "\n",
       "                      LexID Digital  \\\n",
       "0  04f8529a4f1d42998cf554c807838d9b   \n",
       "1  04f8529a4f1d42998cf554c807838d9b   \n",
       "2  04f8529a4f1d42998cf554c807838d9b   \n",
       "3  04f8529a4f1d42998cf554c807838d9b   \n",
       "4  04f8529a4f1d42998cf554c807838d9b   \n",
       "\n",
       "                                       Account Login  \\\n",
       "0  214084229b0eb73cf23c424330ebaf7eeb785d14676b2a...   \n",
       "1  214084229b0eb73cf23c424330ebaf7eeb785d14676b2a...   \n",
       "2  214084229b0eb73cf23c424330ebaf7eeb785d14676b2a...   \n",
       "3  214084229b0eb73cf23c424330ebaf7eeb785d14676b2a...   \n",
       "4  214084229b0eb73cf23c424330ebaf7eeb785d14676b2a...   \n",
       "\n",
       "                                      Account Number Customer Event Type  \\\n",
       "0  f6410ce1f426f16508e129a23117cb8eedfb3e8d9c5960...    existing_payment   \n",
       "1  f6410ce1f426f16508e129a23117cb8eedfb3e8d9c5960...    existing_payment   \n",
       "2  f6410ce1f426f16508e129a23117cb8eedfb3e8d9c5960...    existing_payment   \n",
       "3  f6410ce1f426f16508e129a23117cb8eedfb3e8d9c5960...    existing_payment   \n",
       "4  f6410ce1f426f16508e129a23117cb8eedfb3e8d9c5960...    existing_payment   \n",
       "\n",
       "   Transaction Amount LexID Digital Trust Score Rating       True IP  \\\n",
       "0               50000                        very_high  49.230.70.33   \n",
       "1               50000                        very_high  49.230.70.33   \n",
       "2               50000                        very_high  49.230.70.33   \n",
       "3               50000                        very_high  49.230.70.33   \n",
       "4               50000                        very_high  49.230.70.33   \n",
       "\n",
       "  True IP Geo      Input IP Input IP Country  \\\n",
       "0          TH  49.230.70.33         thailand   \n",
       "1          TH  49.230.70.33         thailand   \n",
       "2          TH  49.230.70.33         thailand   \n",
       "3          TH  49.230.70.33         thailand   \n",
       "4          TH  49.230.70.33         thailand   \n",
       "\n",
       "                           Smart ID                          Exact ID  \\\n",
       "0  b0c980225c624b638639683627a8f1f9  b0c980225c624b638639683627a8f1f9   \n",
       "1  b0c980225c624b638639683627a8f1f9  b0c980225c624b638639683627a8f1f9   \n",
       "2  b0c980225c624b638639683627a8f1f9  b0c980225c624b638639683627a8f1f9   \n",
       "3  b0c980225c624b638639683627a8f1f9  b0c980225c624b638639683627a8f1f9   \n",
       "4  b0c980225c624b638639683627a8f1f9  b0c980225c624b638639683627a8f1f9   \n",
       "\n",
       "                             Session ID  \\\n",
       "0  d64676ae-7c09-430e-b657-77689bf1f4f3   \n",
       "1  29e0fa65-2609-45eb-83b6-82567b06f685   \n",
       "2  2737d42a-1895-4850-832f-da351af79b54   \n",
       "3  c9ac6942-9049-4227-bee9-4de4996fe618   \n",
       "4  63fd7f48-e292-4a15-91ef-1cfcd0ddd3e2   \n",
       "\n",
       "                                  Custom Attribute 9  \n",
       "0  6dd1059cde082c86b080d1d9b701d5ad40a6e4a2171d77...  \n",
       "1  6dd1059cde082c86b080d1d9b701d5ad40a6e4a2171d77...  \n",
       "2  6dd1059cde082c86b080d1d9b701d5ad40a6e4a2171d77...  \n",
       "3  6dd1059cde082c86b080d1d9b701d5ad40a6e4a2171d77...  \n",
       "4  6dd1059cde082c86b080d1d9b701d5ad40a6e4a2171d77...  "
      ]
     },
     "execution_count": 71,
     "metadata": {},
     "output_type": "execute_result"
    }
   ],
   "source": [
    "df = pd.read_csv(\"suspicious_acc.csv\")\n",
    "df.head()"
   ]
  },
  {
   "cell_type": "code",
   "execution_count": 104,
   "id": "b8337f06",
   "metadata": {},
   "outputs": [
    {
     "name": "stdout",
     "output_type": "stream",
     "text": [
      "<class 'pandas.core.frame.DataFrame'>\n",
      "RangeIndex: 265 entries, 0 to 264\n",
      "Data columns (total 28 columns):\n",
      " #   Column                            Non-Null Count  Dtype         \n",
      "---  ------                            --------------  -----         \n",
      " 0   Event Time                        265 non-null    object        \n",
      " 1   Event Type                        265 non-null    object        \n",
      " 2   Line of Business                  265 non-null    object        \n",
      " 3   Risk Rating                       265 non-null    object        \n",
      " 4   Policy Score                      265 non-null    int64         \n",
      " 5   LexID Digital                     265 non-null    object        \n",
      " 6   Account Login                     265 non-null    object        \n",
      " 7   Account Number                    265 non-null    object        \n",
      " 8   Customer Event Type               265 non-null    object        \n",
      " 9   Transaction Amount                265 non-null    int64         \n",
      " 10  LexID Digital Trust Score Rating  265 non-null    object        \n",
      " 11  True IP                           265 non-null    object        \n",
      " 12  True IP Geo                       265 non-null    object        \n",
      " 13  Input IP                          265 non-null    object        \n",
      " 14  Input IP Country                  265 non-null    object        \n",
      " 15  Smart ID                          265 non-null    object        \n",
      " 16  Exact ID                          265 non-null    object        \n",
      " 17  Session ID                        265 non-null    object        \n",
      " 18  Custom Attribute 9                265 non-null    object        \n",
      " 19  Event Time_new                    265 non-null    datetime64[ns]\n",
      " 20  Event Time_date                   265 non-null    object        \n",
      " 21  Event Time_time                   265 non-null    object        \n",
      " 22  Event Time_year                   265 non-null    int64         \n",
      " 23  Event Time_month                  265 non-null    int64         \n",
      " 24  Event Time_day                    265 non-null    int64         \n",
      " 25  Event Time_hour                   265 non-null    int64         \n",
      " 26  Event Time_min                    265 non-null    int64         \n",
      " 27  Event Time_sec                    265 non-null    int64         \n",
      "dtypes: datetime64[ns](1), int64(8), object(19)\n",
      "memory usage: 58.1+ KB\n"
     ]
    }
   ],
   "source": [
    "### Information and data type of each features\n",
    "\n",
    "df.info()"
   ]
  },
  {
   "cell_type": "code",
   "execution_count": 91,
   "id": "22e857a5",
   "metadata": {},
   "outputs": [],
   "source": [
    "### Create new features about date and time\n",
    "\n",
    "df['Event Time_date'] = [i.split(\" \")[0] for i in df['Event Time']]\n",
    "df['Event Time_time'] = [i.split(\" \")[1] for i in df['Event Time']]\n",
    "df['Event Time_year'] = [int(i.split(\" \")[0].split(\"-\")[0]) for i in df['Event Time']]\n",
    "df['Event Time_month'] = [int(i.split(\" \")[0].split(\"-\")[1]) for i in df['Event Time']]\n",
    "df['Event Time_day'] = [int(i.split(\" \")[0].split(\"-\")[2]) for i in df['Event Time']]\n",
    "\n",
    "df['Event Time_hour'] = [int(i.split(\" \")[1].split(\":\")[0]) for i in df['Event Time']]\n",
    "df['Event Time_min'] = [int(i.split(\" \")[1].split(\":\")[1]) for i in df['Event Time']]\n",
    "df['Event Time_sec'] = [int(i.split(\" \")[1].split(\":\")[2]) for i in df['Event Time']]"
   ]
  },
  {
   "cell_type": "code",
   "execution_count": 92,
   "id": "d9c72e55",
   "metadata": {},
   "outputs": [
    {
     "data": {
      "text/html": [
       "<div>\n",
       "<style scoped>\n",
       "    .dataframe tbody tr th:only-of-type {\n",
       "        vertical-align: middle;\n",
       "    }\n",
       "\n",
       "    .dataframe tbody tr th {\n",
       "        vertical-align: top;\n",
       "    }\n",
       "\n",
       "    .dataframe thead th {\n",
       "        text-align: right;\n",
       "    }\n",
       "</style>\n",
       "<table border=\"1\" class=\"dataframe\">\n",
       "  <thead>\n",
       "    <tr style=\"text-align: right;\">\n",
       "      <th></th>\n",
       "      <th>Event Time</th>\n",
       "      <th>Event Type</th>\n",
       "      <th>Line of Business</th>\n",
       "      <th>Risk Rating</th>\n",
       "      <th>Policy Score</th>\n",
       "      <th>LexID Digital</th>\n",
       "      <th>Account Login</th>\n",
       "      <th>Account Number</th>\n",
       "      <th>Customer Event Type</th>\n",
       "      <th>Transaction Amount</th>\n",
       "      <th>...</th>\n",
       "      <th>Custom Attribute 9</th>\n",
       "      <th>Event Time_new</th>\n",
       "      <th>Event Time_date</th>\n",
       "      <th>Event Time_time</th>\n",
       "      <th>Event Time_year</th>\n",
       "      <th>Event Time_month</th>\n",
       "      <th>Event Time_day</th>\n",
       "      <th>Event Time_hour</th>\n",
       "      <th>Event Time_min</th>\n",
       "      <th>Event Time_sec</th>\n",
       "    </tr>\n",
       "  </thead>\n",
       "  <tbody>\n",
       "    <tr>\n",
       "      <th>0</th>\n",
       "      <td>2022-02-27 06:12:42</td>\n",
       "      <td>payment</td>\n",
       "      <td>ibanking</td>\n",
       "      <td>trusted</td>\n",
       "      <td>35</td>\n",
       "      <td>04f8529a4f1d42998cf554c807838d9b</td>\n",
       "      <td>214084229b0eb73cf23c424330ebaf7eeb785d14676b2a...</td>\n",
       "      <td>f6410ce1f426f16508e129a23117cb8eedfb3e8d9c5960...</td>\n",
       "      <td>existing_payment</td>\n",
       "      <td>50000</td>\n",
       "      <td>...</td>\n",
       "      <td>6dd1059cde082c86b080d1d9b701d5ad40a6e4a2171d77...</td>\n",
       "      <td>2022-02-27 06:12:42</td>\n",
       "      <td>2022-02-27</td>\n",
       "      <td>06:12:42</td>\n",
       "      <td>2022</td>\n",
       "      <td>2</td>\n",
       "      <td>27</td>\n",
       "      <td>6</td>\n",
       "      <td>12</td>\n",
       "      <td>42</td>\n",
       "    </tr>\n",
       "    <tr>\n",
       "      <th>1</th>\n",
       "      <td>2022-02-27 06:12:25</td>\n",
       "      <td>payment</td>\n",
       "      <td>ibanking</td>\n",
       "      <td>trusted</td>\n",
       "      <td>35</td>\n",
       "      <td>04f8529a4f1d42998cf554c807838d9b</td>\n",
       "      <td>214084229b0eb73cf23c424330ebaf7eeb785d14676b2a...</td>\n",
       "      <td>f6410ce1f426f16508e129a23117cb8eedfb3e8d9c5960...</td>\n",
       "      <td>existing_payment</td>\n",
       "      <td>50000</td>\n",
       "      <td>...</td>\n",
       "      <td>6dd1059cde082c86b080d1d9b701d5ad40a6e4a2171d77...</td>\n",
       "      <td>2022-02-27 06:12:25</td>\n",
       "      <td>2022-02-27</td>\n",
       "      <td>06:12:25</td>\n",
       "      <td>2022</td>\n",
       "      <td>2</td>\n",
       "      <td>27</td>\n",
       "      <td>6</td>\n",
       "      <td>12</td>\n",
       "      <td>25</td>\n",
       "    </tr>\n",
       "    <tr>\n",
       "      <th>2</th>\n",
       "      <td>2022-02-27 06:12:07</td>\n",
       "      <td>payment</td>\n",
       "      <td>ibanking</td>\n",
       "      <td>trusted</td>\n",
       "      <td>35</td>\n",
       "      <td>04f8529a4f1d42998cf554c807838d9b</td>\n",
       "      <td>214084229b0eb73cf23c424330ebaf7eeb785d14676b2a...</td>\n",
       "      <td>f6410ce1f426f16508e129a23117cb8eedfb3e8d9c5960...</td>\n",
       "      <td>existing_payment</td>\n",
       "      <td>50000</td>\n",
       "      <td>...</td>\n",
       "      <td>6dd1059cde082c86b080d1d9b701d5ad40a6e4a2171d77...</td>\n",
       "      <td>2022-02-27 06:12:07</td>\n",
       "      <td>2022-02-27</td>\n",
       "      <td>06:12:07</td>\n",
       "      <td>2022</td>\n",
       "      <td>2</td>\n",
       "      <td>27</td>\n",
       "      <td>6</td>\n",
       "      <td>12</td>\n",
       "      <td>7</td>\n",
       "    </tr>\n",
       "    <tr>\n",
       "      <th>3</th>\n",
       "      <td>2022-02-27 06:11:52</td>\n",
       "      <td>payment</td>\n",
       "      <td>ibanking</td>\n",
       "      <td>trusted</td>\n",
       "      <td>35</td>\n",
       "      <td>04f8529a4f1d42998cf554c807838d9b</td>\n",
       "      <td>214084229b0eb73cf23c424330ebaf7eeb785d14676b2a...</td>\n",
       "      <td>f6410ce1f426f16508e129a23117cb8eedfb3e8d9c5960...</td>\n",
       "      <td>existing_payment</td>\n",
       "      <td>50000</td>\n",
       "      <td>...</td>\n",
       "      <td>6dd1059cde082c86b080d1d9b701d5ad40a6e4a2171d77...</td>\n",
       "      <td>2022-02-27 06:11:52</td>\n",
       "      <td>2022-02-27</td>\n",
       "      <td>06:11:52</td>\n",
       "      <td>2022</td>\n",
       "      <td>2</td>\n",
       "      <td>27</td>\n",
       "      <td>6</td>\n",
       "      <td>11</td>\n",
       "      <td>52</td>\n",
       "    </tr>\n",
       "    <tr>\n",
       "      <th>4</th>\n",
       "      <td>2022-02-27 06:11:34</td>\n",
       "      <td>payment</td>\n",
       "      <td>ibanking</td>\n",
       "      <td>trusted</td>\n",
       "      <td>35</td>\n",
       "      <td>04f8529a4f1d42998cf554c807838d9b</td>\n",
       "      <td>214084229b0eb73cf23c424330ebaf7eeb785d14676b2a...</td>\n",
       "      <td>f6410ce1f426f16508e129a23117cb8eedfb3e8d9c5960...</td>\n",
       "      <td>existing_payment</td>\n",
       "      <td>50000</td>\n",
       "      <td>...</td>\n",
       "      <td>6dd1059cde082c86b080d1d9b701d5ad40a6e4a2171d77...</td>\n",
       "      <td>2022-02-27 06:11:34</td>\n",
       "      <td>2022-02-27</td>\n",
       "      <td>06:11:34</td>\n",
       "      <td>2022</td>\n",
       "      <td>2</td>\n",
       "      <td>27</td>\n",
       "      <td>6</td>\n",
       "      <td>11</td>\n",
       "      <td>34</td>\n",
       "    </tr>\n",
       "  </tbody>\n",
       "</table>\n",
       "<p>5 rows × 28 columns</p>\n",
       "</div>"
      ],
      "text/plain": [
       "            Event Time Event Type Line of Business Risk Rating  Policy Score  \\\n",
       "0  2022-02-27 06:12:42    payment         ibanking     trusted            35   \n",
       "1  2022-02-27 06:12:25    payment         ibanking     trusted            35   \n",
       "2  2022-02-27 06:12:07    payment         ibanking     trusted            35   \n",
       "3  2022-02-27 06:11:52    payment         ibanking     trusted            35   \n",
       "4  2022-02-27 06:11:34    payment         ibanking     trusted            35   \n",
       "\n",
       "                      LexID Digital  \\\n",
       "0  04f8529a4f1d42998cf554c807838d9b   \n",
       "1  04f8529a4f1d42998cf554c807838d9b   \n",
       "2  04f8529a4f1d42998cf554c807838d9b   \n",
       "3  04f8529a4f1d42998cf554c807838d9b   \n",
       "4  04f8529a4f1d42998cf554c807838d9b   \n",
       "\n",
       "                                       Account Login  \\\n",
       "0  214084229b0eb73cf23c424330ebaf7eeb785d14676b2a...   \n",
       "1  214084229b0eb73cf23c424330ebaf7eeb785d14676b2a...   \n",
       "2  214084229b0eb73cf23c424330ebaf7eeb785d14676b2a...   \n",
       "3  214084229b0eb73cf23c424330ebaf7eeb785d14676b2a...   \n",
       "4  214084229b0eb73cf23c424330ebaf7eeb785d14676b2a...   \n",
       "\n",
       "                                      Account Number Customer Event Type  \\\n",
       "0  f6410ce1f426f16508e129a23117cb8eedfb3e8d9c5960...    existing_payment   \n",
       "1  f6410ce1f426f16508e129a23117cb8eedfb3e8d9c5960...    existing_payment   \n",
       "2  f6410ce1f426f16508e129a23117cb8eedfb3e8d9c5960...    existing_payment   \n",
       "3  f6410ce1f426f16508e129a23117cb8eedfb3e8d9c5960...    existing_payment   \n",
       "4  f6410ce1f426f16508e129a23117cb8eedfb3e8d9c5960...    existing_payment   \n",
       "\n",
       "   Transaction Amount  ...                                 Custom Attribute 9  \\\n",
       "0               50000  ...  6dd1059cde082c86b080d1d9b701d5ad40a6e4a2171d77...   \n",
       "1               50000  ...  6dd1059cde082c86b080d1d9b701d5ad40a6e4a2171d77...   \n",
       "2               50000  ...  6dd1059cde082c86b080d1d9b701d5ad40a6e4a2171d77...   \n",
       "3               50000  ...  6dd1059cde082c86b080d1d9b701d5ad40a6e4a2171d77...   \n",
       "4               50000  ...  6dd1059cde082c86b080d1d9b701d5ad40a6e4a2171d77...   \n",
       "\n",
       "       Event Time_new Event Time_date Event Time_time Event Time_year  \\\n",
       "0 2022-02-27 06:12:42      2022-02-27        06:12:42            2022   \n",
       "1 2022-02-27 06:12:25      2022-02-27        06:12:25            2022   \n",
       "2 2022-02-27 06:12:07      2022-02-27        06:12:07            2022   \n",
       "3 2022-02-27 06:11:52      2022-02-27        06:11:52            2022   \n",
       "4 2022-02-27 06:11:34      2022-02-27        06:11:34            2022   \n",
       "\n",
       "  Event Time_month Event Time_day Event Time_hour Event Time_min  \\\n",
       "0                2             27               6             12   \n",
       "1                2             27               6             12   \n",
       "2                2             27               6             12   \n",
       "3                2             27               6             11   \n",
       "4                2             27               6             11   \n",
       "\n",
       "  Event Time_sec  \n",
       "0             42  \n",
       "1             25  \n",
       "2              7  \n",
       "3             52  \n",
       "4             34  \n",
       "\n",
       "[5 rows x 28 columns]"
      ]
     },
     "execution_count": 92,
     "metadata": {},
     "output_type": "execute_result"
    }
   ],
   "source": [
    "df.head()"
   ]
  },
  {
   "cell_type": "code",
   "execution_count": 89,
   "id": "beccf354",
   "metadata": {},
   "outputs": [],
   "source": [
    "### Changing format from text to date\n",
    "\n",
    "from datetime import datetime\n",
    "date = []\n",
    "for i in list(df['Event Time']):\n",
    "    date.append(datetime.strptime(i, \"%Y-%m-%d %H:%M:%S\"))\n",
    "    \n",
    "df['Event Time_new'] = date\n",
    "\n",
    "time = []\n",
    "for i in list(df['Event Time_time']):\n",
    "    time.append(datetime.strptime(i, \"%H:%M:%S\"))\n",
    "    \n",
    "df['Event Time_time'] = time"
   ]
  },
  {
   "cell_type": "code",
   "execution_count": 90,
   "id": "689734d5",
   "metadata": {},
   "outputs": [
    {
     "data": {
      "text/html": [
       "<div>\n",
       "<style scoped>\n",
       "    .dataframe tbody tr th:only-of-type {\n",
       "        vertical-align: middle;\n",
       "    }\n",
       "\n",
       "    .dataframe tbody tr th {\n",
       "        vertical-align: top;\n",
       "    }\n",
       "\n",
       "    .dataframe thead th {\n",
       "        text-align: right;\n",
       "    }\n",
       "</style>\n",
       "<table border=\"1\" class=\"dataframe\">\n",
       "  <thead>\n",
       "    <tr style=\"text-align: right;\">\n",
       "      <th></th>\n",
       "      <th>Event Time</th>\n",
       "      <th>Event Type</th>\n",
       "      <th>Line of Business</th>\n",
       "      <th>Risk Rating</th>\n",
       "      <th>Policy Score</th>\n",
       "      <th>LexID Digital</th>\n",
       "      <th>Account Login</th>\n",
       "      <th>Account Number</th>\n",
       "      <th>Customer Event Type</th>\n",
       "      <th>Transaction Amount</th>\n",
       "      <th>...</th>\n",
       "      <th>Custom Attribute 9</th>\n",
       "      <th>Event Time_new</th>\n",
       "      <th>Event Time_date</th>\n",
       "      <th>Event Time_time</th>\n",
       "      <th>Event Time_year</th>\n",
       "      <th>Event Time_month</th>\n",
       "      <th>Event Time_day</th>\n",
       "      <th>Event Time_hour</th>\n",
       "      <th>Event Time_min</th>\n",
       "      <th>Event Time_sec</th>\n",
       "    </tr>\n",
       "  </thead>\n",
       "  <tbody>\n",
       "    <tr>\n",
       "      <th>0</th>\n",
       "      <td>2022-02-27 06:12:42</td>\n",
       "      <td>payment</td>\n",
       "      <td>ibanking</td>\n",
       "      <td>trusted</td>\n",
       "      <td>35</td>\n",
       "      <td>04f8529a4f1d42998cf554c807838d9b</td>\n",
       "      <td>214084229b0eb73cf23c424330ebaf7eeb785d14676b2a...</td>\n",
       "      <td>f6410ce1f426f16508e129a23117cb8eedfb3e8d9c5960...</td>\n",
       "      <td>existing_payment</td>\n",
       "      <td>50000</td>\n",
       "      <td>...</td>\n",
       "      <td>6dd1059cde082c86b080d1d9b701d5ad40a6e4a2171d77...</td>\n",
       "      <td>2022-02-27 06:12:42</td>\n",
       "      <td>2022-02-27</td>\n",
       "      <td>1900-01-01 06:12:42</td>\n",
       "      <td>2022</td>\n",
       "      <td>2</td>\n",
       "      <td>27</td>\n",
       "      <td>6</td>\n",
       "      <td>12</td>\n",
       "      <td>42.0</td>\n",
       "    </tr>\n",
       "    <tr>\n",
       "      <th>1</th>\n",
       "      <td>2022-02-27 06:12:25</td>\n",
       "      <td>payment</td>\n",
       "      <td>ibanking</td>\n",
       "      <td>trusted</td>\n",
       "      <td>35</td>\n",
       "      <td>04f8529a4f1d42998cf554c807838d9b</td>\n",
       "      <td>214084229b0eb73cf23c424330ebaf7eeb785d14676b2a...</td>\n",
       "      <td>f6410ce1f426f16508e129a23117cb8eedfb3e8d9c5960...</td>\n",
       "      <td>existing_payment</td>\n",
       "      <td>50000</td>\n",
       "      <td>...</td>\n",
       "      <td>6dd1059cde082c86b080d1d9b701d5ad40a6e4a2171d77...</td>\n",
       "      <td>2022-02-27 06:12:25</td>\n",
       "      <td>2022-02-27</td>\n",
       "      <td>1900-01-01 06:12:25</td>\n",
       "      <td>2022</td>\n",
       "      <td>2</td>\n",
       "      <td>27</td>\n",
       "      <td>6</td>\n",
       "      <td>12</td>\n",
       "      <td>25.0</td>\n",
       "    </tr>\n",
       "    <tr>\n",
       "      <th>2</th>\n",
       "      <td>2022-02-27 06:12:07</td>\n",
       "      <td>payment</td>\n",
       "      <td>ibanking</td>\n",
       "      <td>trusted</td>\n",
       "      <td>35</td>\n",
       "      <td>04f8529a4f1d42998cf554c807838d9b</td>\n",
       "      <td>214084229b0eb73cf23c424330ebaf7eeb785d14676b2a...</td>\n",
       "      <td>f6410ce1f426f16508e129a23117cb8eedfb3e8d9c5960...</td>\n",
       "      <td>existing_payment</td>\n",
       "      <td>50000</td>\n",
       "      <td>...</td>\n",
       "      <td>6dd1059cde082c86b080d1d9b701d5ad40a6e4a2171d77...</td>\n",
       "      <td>2022-02-27 06:12:07</td>\n",
       "      <td>2022-02-27</td>\n",
       "      <td>1900-01-01 06:12:07</td>\n",
       "      <td>2022</td>\n",
       "      <td>2</td>\n",
       "      <td>27</td>\n",
       "      <td>6</td>\n",
       "      <td>12</td>\n",
       "      <td>7.0</td>\n",
       "    </tr>\n",
       "    <tr>\n",
       "      <th>3</th>\n",
       "      <td>2022-02-27 06:11:52</td>\n",
       "      <td>payment</td>\n",
       "      <td>ibanking</td>\n",
       "      <td>trusted</td>\n",
       "      <td>35</td>\n",
       "      <td>04f8529a4f1d42998cf554c807838d9b</td>\n",
       "      <td>214084229b0eb73cf23c424330ebaf7eeb785d14676b2a...</td>\n",
       "      <td>f6410ce1f426f16508e129a23117cb8eedfb3e8d9c5960...</td>\n",
       "      <td>existing_payment</td>\n",
       "      <td>50000</td>\n",
       "      <td>...</td>\n",
       "      <td>6dd1059cde082c86b080d1d9b701d5ad40a6e4a2171d77...</td>\n",
       "      <td>2022-02-27 06:11:52</td>\n",
       "      <td>2022-02-27</td>\n",
       "      <td>1900-01-01 06:11:52</td>\n",
       "      <td>2022</td>\n",
       "      <td>2</td>\n",
       "      <td>27</td>\n",
       "      <td>6</td>\n",
       "      <td>11</td>\n",
       "      <td>52.0</td>\n",
       "    </tr>\n",
       "    <tr>\n",
       "      <th>4</th>\n",
       "      <td>2022-02-27 06:11:34</td>\n",
       "      <td>payment</td>\n",
       "      <td>ibanking</td>\n",
       "      <td>trusted</td>\n",
       "      <td>35</td>\n",
       "      <td>04f8529a4f1d42998cf554c807838d9b</td>\n",
       "      <td>214084229b0eb73cf23c424330ebaf7eeb785d14676b2a...</td>\n",
       "      <td>f6410ce1f426f16508e129a23117cb8eedfb3e8d9c5960...</td>\n",
       "      <td>existing_payment</td>\n",
       "      <td>50000</td>\n",
       "      <td>...</td>\n",
       "      <td>6dd1059cde082c86b080d1d9b701d5ad40a6e4a2171d77...</td>\n",
       "      <td>2022-02-27 06:11:34</td>\n",
       "      <td>2022-02-27</td>\n",
       "      <td>1900-01-01 06:11:34</td>\n",
       "      <td>2022</td>\n",
       "      <td>2</td>\n",
       "      <td>27</td>\n",
       "      <td>6</td>\n",
       "      <td>11</td>\n",
       "      <td>34.0</td>\n",
       "    </tr>\n",
       "  </tbody>\n",
       "</table>\n",
       "<p>5 rows × 28 columns</p>\n",
       "</div>"
      ],
      "text/plain": [
       "            Event Time Event Type Line of Business Risk Rating  Policy Score  \\\n",
       "0  2022-02-27 06:12:42    payment         ibanking     trusted            35   \n",
       "1  2022-02-27 06:12:25    payment         ibanking     trusted            35   \n",
       "2  2022-02-27 06:12:07    payment         ibanking     trusted            35   \n",
       "3  2022-02-27 06:11:52    payment         ibanking     trusted            35   \n",
       "4  2022-02-27 06:11:34    payment         ibanking     trusted            35   \n",
       "\n",
       "                      LexID Digital  \\\n",
       "0  04f8529a4f1d42998cf554c807838d9b   \n",
       "1  04f8529a4f1d42998cf554c807838d9b   \n",
       "2  04f8529a4f1d42998cf554c807838d9b   \n",
       "3  04f8529a4f1d42998cf554c807838d9b   \n",
       "4  04f8529a4f1d42998cf554c807838d9b   \n",
       "\n",
       "                                       Account Login  \\\n",
       "0  214084229b0eb73cf23c424330ebaf7eeb785d14676b2a...   \n",
       "1  214084229b0eb73cf23c424330ebaf7eeb785d14676b2a...   \n",
       "2  214084229b0eb73cf23c424330ebaf7eeb785d14676b2a...   \n",
       "3  214084229b0eb73cf23c424330ebaf7eeb785d14676b2a...   \n",
       "4  214084229b0eb73cf23c424330ebaf7eeb785d14676b2a...   \n",
       "\n",
       "                                      Account Number Customer Event Type  \\\n",
       "0  f6410ce1f426f16508e129a23117cb8eedfb3e8d9c5960...    existing_payment   \n",
       "1  f6410ce1f426f16508e129a23117cb8eedfb3e8d9c5960...    existing_payment   \n",
       "2  f6410ce1f426f16508e129a23117cb8eedfb3e8d9c5960...    existing_payment   \n",
       "3  f6410ce1f426f16508e129a23117cb8eedfb3e8d9c5960...    existing_payment   \n",
       "4  f6410ce1f426f16508e129a23117cb8eedfb3e8d9c5960...    existing_payment   \n",
       "\n",
       "   Transaction Amount  ...                                 Custom Attribute 9  \\\n",
       "0               50000  ...  6dd1059cde082c86b080d1d9b701d5ad40a6e4a2171d77...   \n",
       "1               50000  ...  6dd1059cde082c86b080d1d9b701d5ad40a6e4a2171d77...   \n",
       "2               50000  ...  6dd1059cde082c86b080d1d9b701d5ad40a6e4a2171d77...   \n",
       "3               50000  ...  6dd1059cde082c86b080d1d9b701d5ad40a6e4a2171d77...   \n",
       "4               50000  ...  6dd1059cde082c86b080d1d9b701d5ad40a6e4a2171d77...   \n",
       "\n",
       "       Event Time_new Event Time_date     Event Time_time Event Time_year  \\\n",
       "0 2022-02-27 06:12:42      2022-02-27 1900-01-01 06:12:42            2022   \n",
       "1 2022-02-27 06:12:25      2022-02-27 1900-01-01 06:12:25            2022   \n",
       "2 2022-02-27 06:12:07      2022-02-27 1900-01-01 06:12:07            2022   \n",
       "3 2022-02-27 06:11:52      2022-02-27 1900-01-01 06:11:52            2022   \n",
       "4 2022-02-27 06:11:34      2022-02-27 1900-01-01 06:11:34            2022   \n",
       "\n",
       "  Event Time_month Event Time_day Event Time_hour Event Time_min  \\\n",
       "0                2             27               6             12   \n",
       "1                2             27               6             12   \n",
       "2                2             27               6             12   \n",
       "3                2             27               6             11   \n",
       "4                2             27               6             11   \n",
       "\n",
       "  Event Time_sec  \n",
       "0           42.0  \n",
       "1           25.0  \n",
       "2            7.0  \n",
       "3           52.0  \n",
       "4           34.0  \n",
       "\n",
       "[5 rows x 28 columns]"
      ]
     },
     "execution_count": 90,
     "metadata": {},
     "output_type": "execute_result"
    }
   ],
   "source": [
    "df.head()"
   ]
  },
  {
   "cell_type": "code",
   "execution_count": 29,
   "id": "59d666cb",
   "metadata": {},
   "outputs": [
    {
     "data": {
      "text/plain": [
       "Index(['Event Time', 'Event Type', 'Line of Business', 'Risk Rating',\n",
       "       'Policy Score', 'LexID Digital', 'Account Login', 'Account Number',\n",
       "       'Customer Event Type', 'Transaction Amount',\n",
       "       'LexID Digital Trust Score Rating', 'True IP', 'True IP Geo',\n",
       "       'Input IP', 'Input IP Country', 'Smart ID', 'Exact ID', 'Session ID',\n",
       "       'Custom Attribute 9', 'Event Time_date', 'Event Time_time',\n",
       "       'Event Time_year', 'Event Time_month', 'Event Time_day',\n",
       "       'Event Time_hour', 'Event Time_min', 'Event Time_sec'],\n",
       "      dtype='object')"
      ]
     },
     "execution_count": 29,
     "metadata": {},
     "output_type": "execute_result"
    }
   ],
   "source": [
    "df.columns"
   ]
  },
  {
   "cell_type": "code",
   "execution_count": 85,
   "id": "4fb5856e",
   "metadata": {},
   "outputs": [],
   "source": [
    "list_columns = ['Event Type', 'Line of Business', 'Risk Rating',\n",
    "                'LexID Digital', 'Account Login', \n",
    "                'Account Number', 'Customer Event Type', 'Input IP Country',\n",
    "                'Custom Attribute 9']"
   ]
  },
  {
   "cell_type": "code",
   "execution_count": 86,
   "id": "5173f948",
   "metadata": {
    "scrolled": false
   },
   "outputs": [
    {
     "data": {
      "image/png": "[encoded data removed]",
      "text/plain": [
       "<Figure size 576x432 with 1 Axes>"
      ]
     },
     "metadata": {
      "image/png": {
       "height": 370,
       "width": 497
      }
     },
     "output_type": "display_data"
    },
    {
     "data": {
      "image/png": "[encoded data removed]",
      "text/plain": [
       "<Figure size 576x432 with 1 Axes>"
      ]
     },
     "metadata": {
      "image/png": {
       "height": 370,
       "width": 497
      }
     },
     "output_type": "display_data"
    },
    {
     "data": {
      "image/png": "[encoded data removed]",
      "text/plain": [
       "<Figure size 576x432 with 1 Axes>"
      ]
     },
     "metadata": {
      "image/png": {
       "height": 370,
       "width": 497
      }
     },
     "output_type": "display_data"
    },
    {
     "data": {
      "image/png": "[encoded data removed]",
      "text/plain": [
       "<Figure size 576x432 with 1 Axes>"
      ]
     },
     "metadata": {
      "image/png": {
       "height": 370,
       "width": 497
      }
     },
     "output_type": "display_data"
    },
    {
     "data": {
      "image/png": "[encoded data removed]",
      "text/plain": [
       "<Figure size 576x432 with 1 Axes>"
      ]
     },
     "metadata": {
      "image/png": {
       "height": 370,
       "width": 497
      }
     },
     "output_type": "display_data"
    },
    {
     "data": {
      "image/png": "[encoded data removed]",
      "text/plain": [
       "<Figure size 576x432 with 1 Axes>"
      ]
     },
     "metadata": {
      "image/png": {
       "height": 370,
       "width": 497
      }
     },
     "output_type": "display_data"
    },
    {
     "data": {
      "image/png": "[encoded data removed]",
      "text/plain": [
       "<Figure size 576x432 with 1 Axes>"
      ]
     },
     "metadata": {
      "image/png": {
       "height": 370,
       "width": 497
      }
     },
     "output_type": "display_data"
    },
    {
     "data": {
      "image/png": "[encoded data removed]",
      "text/plain": [
       "<Figure size 576x432 with 1 Axes>"
      ]
     },
     "metadata": {
      "image/png": {
       "height": 370,
       "width": 497
      }
     },
     "output_type": "display_data"
    },
    {
     "data": {
      "image/png": "[encoded data removed]",
      "text/plain": [
       "<Figure size 576x432 with 1 Axes>"
      ]
     },
     "metadata": {
      "image/png": {
       "height": 370,
       "width": 497
      }
     },
     "output_type": "display_data"
    }
   ],
   "source": [
    "### Explore some feature to see the count of each categorical data\n",
    "\n",
    "for i in list_columns:\n",
    "    plt.figure(figsize=(8,6))\n",
    "    total = len(df)\n",
    "    total_amt = df.groupby([i])['Transaction Amount'].sum().sum()\n",
    "    g = sns.countplot(x=i, data=df)\n",
    "    for p in g.patches:\n",
    "        height = p.get_height()\n",
    "        g.text(p.get_x()+p.get_width()/2.,\n",
    "                height + 3,\n",
    "                '{:1.2f}%'.format(height/total*100),\n",
    "                ha=\"center\", fontsize=15)"
   ]
  },
  {
   "cell_type": "code",
   "execution_count": 38,
   "id": "c68ce9fc",
   "metadata": {},
   "outputs": [
    {
     "data": {
      "text/plain": [
       "50000.0    261\n",
       "22000.0      1\n",
       "42000.0      1\n",
       "34000.0      1\n",
       "25000.0      1\n",
       "Name: Transaction Amount, dtype: int64"
      ]
     },
     "execution_count": 38,
     "metadata": {},
     "output_type": "execute_result"
    }
   ],
   "source": [
    "### Almost of all transaction amount = 50,000\n",
    "\n",
    "df['Transaction Amount'].value_counts()"
   ]
  },
  {
   "cell_type": "code",
   "execution_count": 121,
   "id": "bcdcfec1",
   "metadata": {},
   "outputs": [
    {
     "data": {
      "application/vnd.plotly.v1+json": {
       "config": {
        "plotlyServerURL": "https://plot.ly"
       },
       "data": [
        {
         "hovertemplate": "Event Time_new=%{x}<br>Transaction Amount=%{y}<extra></extra>",
         "legendgroup": "",
         "marker": {
          "color": "#636efa",
          "symbol": "circle"
         },
         "mode": "markers",
         "name": "",
         "orientation": "v",
         "showlegend": false,
         "type": "scatter",
         "x": [
          "2022-02-27T06:12:42",
          "2022-02-27T06:12:25",
          "2022-02-27T06:12:07",
          "2022-02-27T06:11:52",
          "2022-02-27T06:11:34",
          "2022-02-27T06:08:38",
          "2022-02-27T06:08:09",
          "2022-02-27T06:07:53",
          "2022-02-25T03:46:50",
          "2022-02-25T03:46:35",
          "2022-02-25T03:46:22",
          "2022-02-25T03:46:05",
          "2022-02-25T03:45:47",
          "2022-02-22T08:05:24",
          "2022-02-22T08:05:10",
          "2022-02-22T08:04:55",
          "2022-02-22T08:04:34",
          "2022-02-22T08:04:16",
          "2022-02-22T08:04:01",
          "2022-02-22T08:03:43",
          "2022-02-22T08:03:22",
          "2022-02-22T08:02:58",
          "2022-02-22T08:02:35",
          "2022-02-22T08:02:19",
          "2022-02-17T11:05:19",
          "2022-02-17T11:04:59",
          "2022-02-17T11:04:38",
          "2022-02-17T11:03:50",
          "2022-02-17T11:03:12",
          "2022-02-17T11:02:57",
          "2022-02-17T11:02:07",
          "2022-02-17T11:01:52",
          "2022-02-17T11:01:39",
          "2022-02-17T11:01:26",
          "2022-02-17T11:01:11",
          "2022-02-13T01:14:59",
          "2022-02-13T01:14:31",
          "2022-02-13T01:14:11",
          "2022-02-13T01:13:45",
          "2022-02-13T01:13:12",
          "2022-02-13T01:12:44",
          "2022-02-12T02:52:55",
          "2022-02-12T02:52:39",
          "2022-02-12T02:52:21",
          "2022-02-12T02:52:07",
          "2022-02-12T02:51:52",
          "2022-02-07T15:09:07",
          "2022-02-07T15:08:53",
          "2022-02-07T15:08:40",
          "2022-02-07T15:08:27",
          "2022-02-07T15:08:13",
          "2022-02-07T15:07:58",
          "2022-02-07T15:07:43",
          "2022-02-07T15:07:26",
          "2022-02-07T15:07:10",
          "2022-02-07T15:06:34",
          "2022-02-07T15:06:14",
          "2022-02-06T02:56:44",
          "2022-02-06T02:56:25",
          "2022-02-06T02:56:07",
          "2022-02-06T02:55:41",
          "2022-02-06T02:55:20",
          "2022-02-06T02:54:54",
          "2022-02-06T02:54:26",
          "2022-02-01T04:16:07",
          "2022-02-01T04:15:52",
          "2022-02-01T04:15:34",
          "2022-02-01T04:11:32",
          "2022-02-01T04:11:12",
          "2022-02-01T04:10:54",
          "2022-02-01T04:10:32",
          "2022-02-01T04:10:16",
          "2022-01-27T04:12:42",
          "2022-01-23T09:10:48",
          "2022-01-23T09:10:28",
          "2022-01-23T09:10:08",
          "2022-01-23T09:09:52",
          "2022-01-23T09:09:36",
          "2022-01-23T09:09:15",
          "2022-01-23T09:08:57",
          "2022-01-23T09:08:39",
          "2022-01-23T09:08:20",
          "2022-01-23T09:07:58",
          "2022-01-23T09:07:37",
          "2022-01-19T11:52:25",
          "2022-01-19T11:52:06",
          "2022-01-19T11:51:50",
          "2022-01-19T11:51:33",
          "2022-01-19T11:51:18",
          "2022-01-19T11:50:59",
          "2022-01-19T11:50:41",
          "2022-01-15T04:22:14",
          "2022-01-15T04:21:43",
          "2022-01-15T04:21:19",
          "2022-01-15T04:20:52",
          "2022-01-15T04:20:33",
          "2022-01-15T04:20:14",
          "2022-01-10T07:11:46",
          "2022-01-10T07:11:36",
          "2022-01-10T07:11:25",
          "2022-01-10T07:11:14",
          "2022-01-10T07:10:58",
          "2022-01-10T07:10:44",
          "2022-01-10T07:10:31",
          "2022-01-10T07:10:14",
          "2022-01-10T07:10:02",
          "2022-01-10T07:09:48",
          "2022-01-10T07:09:32",
          "2022-01-08T02:47:56",
          "2022-01-08T02:47:43",
          "2022-01-08T02:47:30",
          "2022-01-08T02:47:15",
          "2022-01-08T02:47:04",
          "2022-01-08T02:46:50",
          "2022-01-08T02:46:39",
          "2022-01-08T02:46:26",
          "2022-01-08T02:46:15",
          "2022-01-08T02:46:01",
          "2022-01-08T02:45:49",
          "2022-01-06T04:52:56",
          "2022-01-06T04:52:42",
          "2022-01-06T04:52:28",
          "2022-01-06T04:52:13",
          "2022-01-06T04:51:59",
          "2022-01-06T04:51:44",
          "2022-01-06T04:51:26",
          "2022-01-06T04:51:06",
          "2022-01-06T04:50:49",
          "2022-01-06T04:50:27",
          "2022-01-06T04:50:13",
          "2022-01-05T01:56:39",
          "2022-01-05T01:56:27",
          "2022-01-05T01:56:12",
          "2022-01-05T01:55:46",
          "2022-01-05T01:55:28",
          "2022-01-05T01:55:05",
          "2022-01-05T01:54:35",
          "2022-01-05T01:54:20",
          "2022-01-05T01:54:04",
          "2022-01-05T01:53:50",
          "2022-01-05T01:53:35",
          "2022-01-04T16:46:38",
          "2022-01-04T16:46:20",
          "2022-01-04T16:46:04",
          "2022-01-04T16:45:48",
          "2022-01-04T16:45:14",
          "2022-01-04T16:44:59",
          "2022-01-04T16:44:46",
          "2022-01-04T16:44:25",
          "2022-01-04T16:44:09",
          "2022-01-04T16:43:38",
          "2022-01-04T16:43:23",
          "2022-01-02T14:30:57",
          "2022-01-02T14:30:33",
          "2022-01-02T14:30:13",
          "2022-01-02T14:29:54",
          "2022-01-02T14:29:35",
          "2022-01-02T14:29:17",
          "2022-01-02T14:28:52",
          "2022-01-02T14:28:08",
          "2022-01-02T14:27:39",
          "2022-01-02T14:27:20",
          "2022-01-02T14:27:00",
          "2021-12-30T01:17:21",
          "2021-12-30T01:17:08",
          "2021-12-30T01:16:56",
          "2021-12-30T01:16:33",
          "2021-12-30T01:16:21",
          "2021-12-30T01:16:04",
          "2021-12-30T01:15:51",
          "2021-12-30T01:15:39",
          "2021-12-30T01:15:27",
          "2021-12-30T01:15:12",
          "2021-12-30T01:14:57",
          "2021-12-20T09:47:42",
          "2021-12-20T09:47:19",
          "2021-12-20T09:46:52",
          "2021-12-20T09:46:20",
          "2021-12-20T09:45:53",
          "2021-12-20T09:45:27",
          "2021-12-20T09:45:06",
          "2021-12-20T09:44:40",
          "2021-12-20T09:44:17",
          "2021-12-20T09:43:55",
          "2021-12-11T16:32:14",
          "2021-12-11T16:31:58",
          "2021-12-11T16:31:39",
          "2021-12-11T16:31:12",
          "2021-12-11T16:30:51",
          "2021-12-11T16:30:35",
          "2021-12-11T16:30:17",
          "2021-12-11T16:30:02",
          "2021-12-11T16:29:47",
          "2021-12-11T16:29:31",
          "2021-12-11T16:29:17",
          "2021-12-07T16:58:59",
          "2021-12-07T16:58:37",
          "2021-12-07T16:58:17",
          "2021-12-07T16:36:04",
          "2021-12-07T16:35:43",
          "2021-12-07T16:35:15",
          "2021-12-07T16:34:58",
          "2021-12-07T16:34:38",
          "2021-12-07T16:34:18",
          "2021-12-07T16:33:59",
          "2021-12-06T15:14:35",
          "2021-12-06T15:14:14",
          "2021-12-06T15:13:54",
          "2021-12-06T15:13:33",
          "2021-12-06T15:13:13",
          "2021-12-06T15:12:55",
          "2021-12-06T15:12:35",
          "2021-12-06T15:12:10",
          "2021-12-06T15:11:45",
          "2021-12-06T15:11:17",
          "2021-12-06T15:10:46",
          "2021-11-29T06:40:01",
          "2021-11-29T06:39:43",
          "2021-11-29T06:39:30",
          "2021-11-29T06:39:17",
          "2021-11-29T06:39:01",
          "2021-11-29T06:38:49",
          "2021-11-29T06:38:35",
          "2021-11-29T06:38:24",
          "2021-11-29T06:38:13",
          "2021-11-29T06:38:01",
          "2021-11-29T06:37:47",
          "2021-11-20T16:55:31",
          "2021-11-20T16:55:13",
          "2021-11-20T16:54:57",
          "2021-11-20T16:54:37",
          "2021-11-20T16:54:21",
          "2021-11-20T16:54:05",
          "2021-11-20T16:53:46",
          "2021-11-20T16:53:28",
          "2021-11-20T16:53:10",
          "2021-11-20T16:52:51",
          "2021-11-20T16:52:31",
          "2021-11-17T03:22:29",
          "2021-11-17T03:22:17",
          "2021-11-17T03:22:03",
          "2021-11-17T03:21:43",
          "2021-11-17T03:21:26",
          "2021-11-17T03:21:10",
          "2021-11-17T03:20:55",
          "2021-11-17T03:20:41",
          "2021-11-17T03:20:26",
          "2021-11-17T03:20:04",
          "2021-11-17T03:19:45",
          "2021-11-08T18:04:19",
          "2021-11-08T18:04:00",
          "2021-11-08T18:03:46",
          "2021-11-08T18:03:30",
          "2021-11-08T18:03:12",
          "2021-11-08T18:02:55",
          "2021-11-08T18:02:41",
          "2021-11-08T18:02:17",
          "2021-11-08T18:02:02",
          "2021-11-08T18:01:46",
          "2021-11-08T18:01:29",
          "2021-11-02T13:21:12",
          "2021-11-02T13:20:53",
          "2021-11-02T13:20:37",
          "2021-11-02T13:20:22",
          "2021-11-02T13:20:04"
         ],
         "xaxis": "x",
         "y": [
          50000,
          50000,
          50000,
          50000,
          50000,
          50000,
          50000,
          50000,
          50000,
          50000,
          50000,
          50000,
          50000,
          50000,
          50000,
          50000,
          50000,
          50000,
          50000,
          50000,
          50000,
          50000,
          50000,
          50000,
          50000,
          50000,
          50000,
          50000,
          50000,
          50000,
          50000,
          50000,
          50000,
          50000,
          50000,
          22000,
          50000,
          50000,
          50000,
          50000,
          50000,
          50000,
          50000,
          50000,
          50000,
          50000,
          50000,
          50000,
          50000,
          50000,
          50000,
          50000,
          50000,
          50000,
          50000,
          50000,
          50000,
          42000,
          50000,
          50000,
          50000,
          50000,
          50000,
          50000,
          50000,
          50000,
          50000,
          50000,
          50000,
          50000,
          50000,
          50000,
          34000,
          50000,
          50000,
          50000,
          50000,
          50000,
          50000,
          50000,
          50000,
          50000,
          50000,
          50000,
          50000,
          50000,
          50000,
          50000,
          50000,
          50000,
          50000,
          25000,
          50000,
          50000,
          50000,
          50000,
          50000,
          50000,
          50000,
          50000,
          50000,
          50000,
          50000,
          50000,
          50000,
          50000,
          50000,
          50000,
          50000,
          50000,
          50000,
          50000,
          50000,
          50000,
          50000,
          50000,
          50000,
          50000,
          50000,
          50000,
          50000,
          50000,
          50000,
          50000,
          50000,
          50000,
          50000,
          50000,
          50000,
          50000,
          50000,
          50000,
          50000,
          50000,
          50000,
          50000,
          50000,
          50000,
          50000,
          50000,
          50000,
          50000,
          50000,
          50000,
          50000,
          50000,
          50000,
          50000,
          50000,
          50000,
          50000,
          50000,
          50000,
          50000,
          50000,
          50000,
          50000,
          50000,
          50000,
          50000,
          50000,
          50000,
          50000,
          50000,
          50000,
          50000,
          50000,
          50000,
          50000,
          50000,
          50000,
          50000,
          50000,
          50000,
          50000,
          50000,
          50000,
          50000,
          50000,
          50000,
          50000,
          50000,
          50000,
          50000,
          50000,
          50000,
          50000,
          50000,
          50000,
          50000,
          50000,
          50000,
          50000,
          50000,
          50000,
          50000,
          50000,
          50000,
          50000,
          50000,
          50000,
          50000,
          50000,
          50000,
          50000,
          50000,
          50000,
          50000,
          50000,
          50000,
          50000,
          50000,
          50000,
          50000,
          50000,
          50000,
          50000,
          50000,
          50000,
          50000,
          50000,
          50000,
          50000,
          50000,
          50000,
          50000,
          50000,
          50000,
          50000,
          50000,
          50000,
          50000,
          50000,
          50000,
          50000,
          50000,
          50000,
          50000,
          50000,
          50000,
          50000,
          50000,
          50000,
          50000,
          50000,
          50000,
          50000,
          50000,
          50000,
          50000,
          50000,
          50000,
          50000,
          50000,
          50000,
          50000,
          50000,
          50000,
          50000,
          50000,
          50000,
          50000,
          50000,
          50000,
          50000
         ],
         "yaxis": "y"
        }
       ],
       "layout": {
        "height": 500,
        "legend": {
         "tracegroupgap": 0
        },
        "margin": {
         "t": 60
        },
        "showlegend": true,
        "template": {
         "data": {
          "bar": [
           {
            "error_x": {
             "color": "#2a3f5f"
            },
            "error_y": {
             "color": "#2a3f5f"
            },
            "marker": {
             "line": {
              "color": "white",
              "width": 0.5
             },
             "pattern": {
              "fillmode": "overlay",
              "size": 10,
              "solidity": 0.2
             }
            },
            "type": "bar"
           }
          ],
          "barpolar": [
           {
            "marker": {
             "line": {
              "color": "white",
              "width": 0.5
             },
             "pattern": {
              "fillmode": "overlay",
              "size": 10,
              "solidity": 0.2
             }
            },
            "type": "barpolar"
           }
          ],
          "carpet": [
           {
            "aaxis": {
             "endlinecolor": "#2a3f5f",
             "gridcolor": "#C8D4E3",
             "linecolor": "#C8D4E3",
             "minorgridcolor": "#C8D4E3",
             "startlinecolor": "#2a3f5f"
            },
            "baxis": {
             "endlinecolor": "#2a3f5f",
             "gridcolor": "#C8D4E3",
             "linecolor": "#C8D4E3",
             "minorgridcolor": "#C8D4E3",
             "startlinecolor": "#2a3f5f"
            },
            "type": "carpet"
           }
          ],
          "choropleth": [
           {
            "colorbar": {
             "outlinewidth": 0,
             "ticks": ""
            },
            "type": "choropleth"
           }
          ],
          "contour": [
           {
            "colorbar": {
             "outlinewidth": 0,
             "ticks": ""
            },
            "colorscale": [
             [
              0,
              "#0d0887"
             ],
             [
              0.1111111111111111,
              "#46039f"
             ],
             [
              0.2222222222222222,
              "#7201a8"
             ],
             [
              0.3333333333333333,
              "#9c179e"
             ],
             [
              0.4444444444444444,
              "#bd3786"
             ],
             [
              0.5555555555555556,
              "#d8576b"
             ],
             [
              0.6666666666666666,
              "#ed7953"
             ],
             [
              0.7777777777777778,
              "#fb9f3a"
             ],
             [
              0.8888888888888888,
              "#fdca26"
             ],
             [
              1,
              "#f0f921"
             ]
            ],
            "type": "contour"
           }
          ],
          "contourcarpet": [
           {
            "colorbar": {
             "outlinewidth": 0,
             "ticks": ""
            },
            "type": "contourcarpet"
           }
          ],
          "heatmap": [
           {
            "colorbar": {
             "outlinewidth": 0,
             "ticks": ""
            },
            "colorscale": [
             [
              0,
              "#0d0887"
             ],
             [
              0.1111111111111111,
              "#46039f"
             ],
             [
              0.2222222222222222,
              "#7201a8"
             ],
             [
              0.3333333333333333,
              "#9c179e"
             ],
             [
              0.4444444444444444,
              "#bd3786"
             ],
             [
              0.5555555555555556,
              "#d8576b"
             ],
             [
              0.6666666666666666,
              "#ed7953"
             ],
             [
              0.7777777777777778,
              "#fb9f3a"
             ],
             [
              0.8888888888888888,
              "#fdca26"
             ],
             [
              1,
              "#f0f921"
             ]
            ],
            "type": "heatmap"
           }
          ],
          "heatmapgl": [
           {
            "colorbar": {
             "outlinewidth": 0,
             "ticks": ""
            },
            "colorscale": [
             [
              0,
              "#0d0887"
             ],
             [
              0.1111111111111111,
              "#46039f"
             ],
             [
              0.2222222222222222,
              "#7201a8"
             ],
             [
              0.3333333333333333,
              "#9c179e"
             ],
             [
              0.4444444444444444,
              "#bd3786"
             ],
             [
              0.5555555555555556,
              "#d8576b"
             ],
             [
              0.6666666666666666,
              "#ed7953"
             ],
             [
              0.7777777777777778,
              "#fb9f3a"
             ],
             [
              0.8888888888888888,
              "#fdca26"
             ],
             [
              1,
              "#f0f921"
             ]
            ],
            "type": "heatmapgl"
           }
          ],
          "histogram": [
           {
            "marker": {
             "pattern": {
              "fillmode": "overlay",
              "size": 10,
              "solidity": 0.2
             }
            },
            "type": "histogram"
           }
          ],
          "histogram2d": [
           {
            "colorbar": {
             "outlinewidth": 0,
             "ticks": ""
            },
            "colorscale": [
             [
              0,
              "#0d0887"
             ],
             [
              0.1111111111111111,
              "#46039f"
             ],
             [
              0.2222222222222222,
              "#7201a8"
             ],
             [
              0.3333333333333333,
              "#9c179e"
             ],
             [
              0.4444444444444444,
              "#bd3786"
             ],
             [
              0.5555555555555556,
              "#d8576b"
             ],
             [
              0.6666666666666666,
              "#ed7953"
             ],
             [
              0.7777777777777778,
              "#fb9f3a"
             ],
             [
              0.8888888888888888,
              "#fdca26"
             ],
             [
              1,
              "#f0f921"
             ]
            ],
            "type": "histogram2d"
           }
          ],
          "histogram2dcontour": [
           {
            "colorbar": {
             "outlinewidth": 0,
             "ticks": ""
            },
            "colorscale": [
             [
              0,
              "#0d0887"
             ],
             [
              0.1111111111111111,
              "#46039f"
             ],
             [
              0.2222222222222222,
              "#7201a8"
             ],
             [
              0.3333333333333333,
              "#9c179e"
             ],
             [
              0.4444444444444444,
              "#bd3786"
             ],
             [
              0.5555555555555556,
              "#d8576b"
             ],
             [
              0.6666666666666666,
              "#ed7953"
             ],
             [
              0.7777777777777778,
              "#fb9f3a"
             ],
             [
              0.8888888888888888,
              "#fdca26"
             ],
             [
              1,
              "#f0f921"
             ]
            ],
            "type": "histogram2dcontour"
           }
          ],
          "mesh3d": [
           {
            "colorbar": {
             "outlinewidth": 0,
             "ticks": ""
            },
            "type": "mesh3d"
           }
          ],
          "parcoords": [
           {
            "line": {
             "colorbar": {
              "outlinewidth": 0,
              "ticks": ""
             }
            },
            "type": "parcoords"
           }
          ],
          "pie": [
           {
            "automargin": true,
            "type": "pie"
           }
          ],
          "scatter": [
           {
            "fillpattern": {
             "fillmode": "overlay",
             "size": 10,
             "solidity": 0.2
            },
            "type": "scatter"
           }
          ],
          "scatter3d": [
           {
            "line": {
             "colorbar": {
              "outlinewidth": 0,
              "ticks": ""
             }
            },
            "marker": {
             "colorbar": {
              "outlinewidth": 0,
              "ticks": ""
             }
            },
            "type": "scatter3d"
           }
          ],
          "scattercarpet": [
           {
            "marker": {
             "colorbar": {
              "outlinewidth": 0,
              "ticks": ""
             }
            },
            "type": "scattercarpet"
           }
          ],
          "scattergeo": [
           {
            "marker": {
             "colorbar": {
              "outlinewidth": 0,
              "ticks": ""
             }
            },
            "type": "scattergeo"
           }
          ],
          "scattergl": [
           {
            "marker": {
             "colorbar": {
              "outlinewidth": 0,
              "ticks": ""
             }
            },
            "type": "scattergl"
           }
          ],
          "scattermapbox": [
           {
            "marker": {
             "colorbar": {
              "outlinewidth": 0,
              "ticks": ""
             }
            },
            "type": "scattermapbox"
           }
          ],
          "scatterpolar": [
           {
            "marker": {
             "colorbar": {
              "outlinewidth": 0,
              "ticks": ""
             }
            },
            "type": "scatterpolar"
           }
          ],
          "scatterpolargl": [
           {
            "marker": {
             "colorbar": {
              "outlinewidth": 0,
              "ticks": ""
             }
            },
            "type": "scatterpolargl"
           }
          ],
          "scatterternary": [
           {
            "marker": {
             "colorbar": {
              "outlinewidth": 0,
              "ticks": ""
             }
            },
            "type": "scatterternary"
           }
          ],
          "surface": [
           {
            "colorbar": {
             "outlinewidth": 0,
             "ticks": ""
            },
            "colorscale": [
             [
              0,
              "#0d0887"
             ],
             [
              0.1111111111111111,
              "#46039f"
             ],
             [
              0.2222222222222222,
              "#7201a8"
             ],
             [
              0.3333333333333333,
              "#9c179e"
             ],
             [
              0.4444444444444444,
              "#bd3786"
             ],
             [
              0.5555555555555556,
              "#d8576b"
             ],
             [
              0.6666666666666666,
              "#ed7953"
             ],
             [
              0.7777777777777778,
              "#fb9f3a"
             ],
             [
              0.8888888888888888,
              "#fdca26"
             ],
             [
              1,
              "#f0f921"
             ]
            ],
            "type": "surface"
           }
          ],
          "table": [
           {
            "cells": {
             "fill": {
              "color": "#EBF0F8"
             },
             "line": {
              "color": "white"
             }
            },
            "header": {
             "fill": {
              "color": "#C8D4E3"
             },
             "line": {
              "color": "white"
             }
            },
            "type": "table"
           }
          ]
         },
         "layout": {
          "annotationdefaults": {
           "arrowcolor": "#2a3f5f",
           "arrowhead": 0,
           "arrowwidth": 1
          },
          "autotypenumbers": "strict",
          "coloraxis": {
           "colorbar": {
            "outlinewidth": 0,
            "ticks": ""
           }
          },
          "colorscale": {
           "diverging": [
            [
             0,
             "#8e0152"
            ],
            [
             0.1,
             "#c51b7d"
            ],
            [
             0.2,
             "#de77ae"
            ],
            [
             0.3,
             "#f1b6da"
            ],
            [
             0.4,
             "#fde0ef"
            ],
            [
             0.5,
             "#f7f7f7"
            ],
            [
             0.6,
             "#e6f5d0"
            ],
            [
             0.7,
             "#b8e186"
            ],
            [
             0.8,
             "#7fbc41"
            ],
            [
             0.9,
             "#4d9221"
            ],
            [
             1,
             "#276419"
            ]
           ],
           "sequential": [
            [
             0,
             "#0d0887"
            ],
            [
             0.1111111111111111,
             "#46039f"
            ],
            [
             0.2222222222222222,
             "#7201a8"
            ],
            [
             0.3333333333333333,
             "#9c179e"
            ],
            [
             0.4444444444444444,
             "#bd3786"
            ],
            [
             0.5555555555555556,
             "#d8576b"
            ],
            [
             0.6666666666666666,
             "#ed7953"
            ],
            [
             0.7777777777777778,
             "#fb9f3a"
            ],
            [
             0.8888888888888888,
             "#fdca26"
            ],
            [
             1,
             "#f0f921"
            ]
           ],
           "sequentialminus": [
            [
             0,
             "#0d0887"
            ],
            [
             0.1111111111111111,
             "#46039f"
            ],
            [
             0.2222222222222222,
             "#7201a8"
            ],
            [
             0.3333333333333333,
             "#9c179e"
            ],
            [
             0.4444444444444444,
             "#bd3786"
            ],
            [
             0.5555555555555556,
             "#d8576b"
            ],
            [
             0.6666666666666666,
             "#ed7953"
            ],
            [
             0.7777777777777778,
             "#fb9f3a"
            ],
            [
             0.8888888888888888,
             "#fdca26"
            ],
            [
             1,
             "#f0f921"
            ]
           ]
          },
          "colorway": [
           "#636efa",
           "#EF553B",
           "#00cc96",
           "#ab63fa",
           "#FFA15A",
           "#19d3f3",
           "#FF6692",
           "#B6E880",
           "#FF97FF",
           "#FECB52"
          ],
          "font": {
           "color": "#2a3f5f"
          },
          "geo": {
           "bgcolor": "white",
           "lakecolor": "white",
           "landcolor": "white",
           "showlakes": true,
           "showland": true,
           "subunitcolor": "#C8D4E3"
          },
          "hoverlabel": {
           "align": "left"
          },
          "hovermode": "closest",
          "mapbox": {
           "style": "light"
          },
          "paper_bgcolor": "white",
          "plot_bgcolor": "white",
          "polar": {
           "angularaxis": {
            "gridcolor": "#EBF0F8",
            "linecolor": "#EBF0F8",
            "ticks": ""
           },
           "bgcolor": "white",
           "radialaxis": {
            "gridcolor": "#EBF0F8",
            "linecolor": "#EBF0F8",
            "ticks": ""
           }
          },
          "scene": {
           "xaxis": {
            "backgroundcolor": "white",
            "gridcolor": "#DFE8F3",
            "gridwidth": 2,
            "linecolor": "#EBF0F8",
            "showbackground": true,
            "ticks": "",
            "zerolinecolor": "#EBF0F8"
           },
           "yaxis": {
            "backgroundcolor": "white",
            "gridcolor": "#DFE8F3",
            "gridwidth": 2,
            "linecolor": "#EBF0F8",
            "showbackground": true,
            "ticks": "",
            "zerolinecolor": "#EBF0F8"
           },
           "zaxis": {
            "backgroundcolor": "white",
            "gridcolor": "#DFE8F3",
            "gridwidth": 2,
            "linecolor": "#EBF0F8",
            "showbackground": true,
            "ticks": "",
            "zerolinecolor": "#EBF0F8"
           }
          },
          "shapedefaults": {
           "line": {
            "color": "#2a3f5f"
           }
          },
          "ternary": {
           "aaxis": {
            "gridcolor": "#DFE8F3",
            "linecolor": "#A2B1C6",
            "ticks": ""
           },
           "baxis": {
            "gridcolor": "#DFE8F3",
            "linecolor": "#A2B1C6",
            "ticks": ""
           },
           "bgcolor": "white",
           "caxis": {
            "gridcolor": "#DFE8F3",
            "linecolor": "#A2B1C6",
            "ticks": ""
           }
          },
          "title": {
           "x": 0.05
          },
          "xaxis": {
           "automargin": true,
           "gridcolor": "#EBF0F8",
           "linecolor": "#EBF0F8",
           "ticks": "",
           "title": {
            "standoff": 15
           },
           "zerolinecolor": "#EBF0F8",
           "zerolinewidth": 2
          },
          "yaxis": {
           "automargin": true,
           "gridcolor": "#EBF0F8",
           "linecolor": "#EBF0F8",
           "ticks": "",
           "title": {
            "standoff": 15
           },
           "zerolinecolor": "#EBF0F8",
           "zerolinewidth": 2
          }
         }
        },
        "uniformtext": {
         "minsize": 12
        },
        "width": 800,
        "xaxis": {
         "anchor": "y",
         "domain": [
          0,
          1
         ],
         "tickangle": 0,
         "tickfont": {
          "size": 12
         },
         "title": {
          "text": "Event Time_new"
         }
        },
        "yaxis": {
         "anchor": "x",
         "domain": [
          0,
          1
         ],
         "title": {
          "text": "Transaction Amount"
         }
        }
       }
      },
      "text/html": [
       "<div>                            <div id=\"db44d6d8-a51c-41a7-b2fa-8204bf99faaf\" class=\"plotly-graph-div\" style=\"height:500px; width:800px;\"></div>            <script type=\"text/javascript\">                require([\"plotly\"], function(Plotly) {                    window.PLOTLYENV=window.PLOTLYENV || {};                                    if (document.getElementById(\"db44d6d8-a51c-41a7-b2fa-8204bf99faaf\")) {                    Plotly.newPlot(                        \"db44d6d8-a51c-41a7-b2fa-8204bf99faaf\",                        [{\"hovertemplate\":\"Event Time_new=%{x}<br>Transaction Amount=%{y}<extra></extra>\",\"legendgroup\":\"\",\"marker\":{\"color\":\"#636efa\",\"symbol\":\"circle\"},\"mode\":\"markers\",\"name\":\"\",\"orientation\":\"v\",\"showlegend\":false,\"x\":[\"2022-02-27T06:12:42\",\"2022-02-27T06:12:25\",\"2022-02-27T06:12:07\",\"2022-02-27T06:11:52\",\"2022-02-27T06:11:34\",\"2022-02-27T06:08:38\",\"2022-02-27T06:08:09\",\"2022-02-27T06:07:53\",\"2022-02-25T03:46:50\",\"2022-02-25T03:46:35\",\"2022-02-25T03:46:22\",\"2022-02-25T03:46:05\",\"2022-02-25T03:45:47\",\"2022-02-22T08:05:24\",\"2022-02-22T08:05:10\",\"2022-02-22T08:04:55\",\"2022-02-22T08:04:34\",\"2022-02-22T08:04:16\",\"2022-02-22T08:04:01\",\"2022-02-22T08:03:43\",\"2022-02-22T08:03:22\",\"2022-02-22T08:02:58\",\"2022-02-22T08:02:35\",\"2022-02-22T08:02:19\",\"2022-02-17T11:05:19\",\"2022-02-17T11:04:59\",\"2022-02-17T11:04:38\",\"2022-02-17T11:03:50\",\"2022-02-17T11:03:12\",\"2022-02-17T11:02:57\",\"2022-02-17T11:02:07\",\"2022-02-17T11:01:52\",\"2022-02-17T11:01:39\",\"2022-02-17T11:01:26\",\"2022-02-17T11:01:11\",\"2022-02-13T01:14:59\",\"2022-02-13T01:14:31\",\"2022-02-13T01:14:11\",\"2022-02-13T01:13:45\",\"2022-02-13T01:13:12\",\"2022-02-13T01:12:44\",\"2022-02-12T02:52:55\",\"2022-02-12T02:52:39\",\"2022-02-12T02:52:21\",\"2022-02-12T02:52:07\",\"2022-02-12T02:51:52\",\"2022-02-07T15:09:07\",\"2022-02-07T15:08:53\",\"2022-02-07T15:08:40\",\"2022-02-07T15:08:27\",\"2022-02-07T15:08:13\",\"2022-02-07T15:07:58\",\"2022-02-07T15:07:43\",\"2022-02-07T15:07:26\",\"2022-02-07T15:07:10\",\"2022-02-07T15:06:34\",\"2022-02-07T15:06:14\",\"2022-02-06T02:56:44\",\"2022-02-06T02:56:25\",\"2022-02-06T02:56:07\",\"2022-02-06T02:55:41\",\"2022-02-06T02:55:20\",\"2022-02-06T02:54:54\",\"2022-02-06T02:54:26\",\"2022-02-01T04:16:07\",\"2022-02-01T04:15:52\",\"2022-02-01T04:15:34\",\"2022-02-01T04:11:32\",\"2022-02-01T04:11:12\",\"2022-02-01T04:10:54\",\"2022-02-01T04:10:32\",\"2022-02-01T04:10:16\",\"2022-01-27T04:12:42\",\"2022-01-23T09:10:48\",\"2022-01-23T09:10:28\",\"2022-01-23T09:10:08\",\"2022-01-23T09:09:52\",\"2022-01-23T09:09:36\",\"2022-01-23T09:09:15\",\"2022-01-23T09:08:57\",\"2022-01-23T09:08:39\",\"2022-01-23T09:08:20\",\"2022-01-23T09:07:58\",\"2022-01-23T09:07:37\",\"2022-01-19T11:52:25\",\"2022-01-19T11:52:06\",\"2022-01-19T11:51:50\",\"2022-01-19T11:51:33\",\"2022-01-19T11:51:18\",\"2022-01-19T11:50:59\",\"2022-01-19T11:50:41\",\"2022-01-15T04:22:14\",\"2022-01-15T04:21:43\",\"2022-01-15T04:21:19\",\"2022-01-15T04:20:52\",\"2022-01-15T04:20:33\",\"2022-01-15T04:20:14\",\"2022-01-10T07:11:46\",\"2022-01-10T07:11:36\",\"2022-01-10T07:11:25\",\"2022-01-10T07:11:14\",\"2022-01-10T07:10:58\",\"2022-01-10T07:10:44\",\"2022-01-10T07:10:31\",\"2022-01-10T07:10:14\",\"2022-01-10T07:10:02\",\"2022-01-10T07:09:48\",\"2022-01-10T07:09:32\",\"2022-01-08T02:47:56\",\"2022-01-08T02:47:43\",\"2022-01-08T02:47:30\",\"2022-01-08T02:47:15\",\"2022-01-08T02:47:04\",\"2022-01-08T02:46:50\",\"2022-01-08T02:46:39\",\"2022-01-08T02:46:26\",\"2022-01-08T02:46:15\",\"2022-01-08T02:46:01\",\"2022-01-08T02:45:49\",\"2022-01-06T04:52:56\",\"2022-01-06T04:52:42\",\"2022-01-06T04:52:28\",\"2022-01-06T04:52:13\",\"2022-01-06T04:51:59\",\"2022-01-06T04:51:44\",\"2022-01-06T04:51:26\",\"2022-01-06T04:51:06\",\"2022-01-06T04:50:49\",\"2022-01-06T04:50:27\",\"2022-01-06T04:50:13\",\"2022-01-05T01:56:39\",\"2022-01-05T01:56:27\",\"2022-01-05T01:56:12\",\"2022-01-05T01:55:46\",\"2022-01-05T01:55:28\",\"2022-01-05T01:55:05\",\"2022-01-05T01:54:35\",\"2022-01-05T01:54:20\",\"2022-01-05T01:54:04\",\"2022-01-05T01:53:50\",\"2022-01-05T01:53:35\",\"2022-01-04T16:46:38\",\"2022-01-04T16:46:20\",\"2022-01-04T16:46:04\",\"2022-01-04T16:45:48\",\"2022-01-04T16:45:14\",\"2022-01-04T16:44:59\",\"2022-01-04T16:44:46\",\"2022-01-04T16:44:25\",\"2022-01-04T16:44:09\",\"2022-01-04T16:43:38\",\"2022-01-04T16:43:23\",\"2022-01-02T14:30:57\",\"2022-01-02T14:30:33\",\"2022-01-02T14:30:13\",\"2022-01-02T14:29:54\",\"2022-01-02T14:29:35\",\"2022-01-02T14:29:17\",\"2022-01-02T14:28:52\",\"2022-01-02T14:28:08\",\"2022-01-02T14:27:39\",\"2022-01-02T14:27:20\",\"2022-01-02T14:27:00\",\"2021-12-30T01:17:21\",\"2021-12-30T01:17:08\",\"2021-12-30T01:16:56\",\"2021-12-30T01:16:33\",\"2021-12-30T01:16:21\",\"2021-12-30T01:16:04\",\"2021-12-30T01:15:51\",\"2021-12-30T01:15:39\",\"2021-12-30T01:15:27\",\"2021-12-30T01:15:12\",\"2021-12-30T01:14:57\",\"2021-12-20T09:47:42\",\"2021-12-20T09:47:19\",\"2021-12-20T09:46:52\",\"2021-12-20T09:46:20\",\"2021-12-20T09:45:53\",\"2021-12-20T09:45:27\",\"2021-12-20T09:45:06\",\"2021-12-20T09:44:40\",\"2021-12-20T09:44:17\",\"2021-12-20T09:43:55\",\"2021-12-11T16:32:14\",\"2021-12-11T16:31:58\",\"2021-12-11T16:31:39\",\"2021-12-11T16:31:12\",\"2021-12-11T16:30:51\",\"2021-12-11T16:30:35\",\"2021-12-11T16:30:17\",\"2021-12-11T16:30:02\",\"2021-12-11T16:29:47\",\"2021-12-11T16:29:31\",\"2021-12-11T16:29:17\",\"2021-12-07T16:58:59\",\"2021-12-07T16:58:37\",\"2021-12-07T16:58:17\",\"2021-12-07T16:36:04\",\"2021-12-07T16:35:43\",\"2021-12-07T16:35:15\",\"2021-12-07T16:34:58\",\"2021-12-07T16:34:38\",\"2021-12-07T16:34:18\",\"2021-12-07T16:33:59\",\"2021-12-06T15:14:35\",\"2021-12-06T15:14:14\",\"2021-12-06T15:13:54\",\"2021-12-06T15:13:33\",\"2021-12-06T15:13:13\",\"2021-12-06T15:12:55\",\"2021-12-06T15:12:35\",\"2021-12-06T15:12:10\",\"2021-12-06T15:11:45\",\"2021-12-06T15:11:17\",\"2021-12-06T15:10:46\",\"2021-11-29T06:40:01\",\"2021-11-29T06:39:43\",\"2021-11-29T06:39:30\",\"2021-11-29T06:39:17\",\"2021-11-29T06:39:01\",\"2021-11-29T06:38:49\",\"2021-11-29T06:38:35\",\"2021-11-29T06:38:24\",\"2021-11-29T06:38:13\",\"2021-11-29T06:38:01\",\"2021-11-29T06:37:47\",\"2021-11-20T16:55:31\",\"2021-11-20T16:55:13\",\"2021-11-20T16:54:57\",\"2021-11-20T16:54:37\",\"2021-11-20T16:54:21\",\"2021-11-20T16:54:05\",\"2021-11-20T16:53:46\",\"2021-11-20T16:53:28\",\"2021-11-20T16:53:10\",\"2021-11-20T16:52:51\",\"2021-11-20T16:52:31\",\"2021-11-17T03:22:29\",\"2021-11-17T03:22:17\",\"2021-11-17T03:22:03\",\"2021-11-17T03:21:43\",\"2021-11-17T03:21:26\",\"2021-11-17T03:21:10\",\"2021-11-17T03:20:55\",\"2021-11-17T03:20:41\",\"2021-11-17T03:20:26\",\"2021-11-17T03:20:04\",\"2021-11-17T03:19:45\",\"2021-11-08T18:04:19\",\"2021-11-08T18:04:00\",\"2021-11-08T18:03:46\",\"2021-11-08T18:03:30\",\"2021-11-08T18:03:12\",\"2021-11-08T18:02:55\",\"2021-11-08T18:02:41\",\"2021-11-08T18:02:17\",\"2021-11-08T18:02:02\",\"2021-11-08T18:01:46\",\"2021-11-08T18:01:29\",\"2021-11-02T13:21:12\",\"2021-11-02T13:20:53\",\"2021-11-02T13:20:37\",\"2021-11-02T13:20:22\",\"2021-11-02T13:20:04\"],\"xaxis\":\"x\",\"y\":[50000,50000,50000,50000,50000,50000,50000,50000,50000,50000,50000,50000,50000,50000,50000,50000,50000,50000,50000,50000,50000,50000,50000,50000,50000,50000,50000,50000,50000,50000,50000,50000,50000,50000,50000,22000,50000,50000,50000,50000,50000,50000,50000,50000,50000,50000,50000,50000,50000,50000,50000,50000,50000,50000,50000,50000,50000,42000,50000,50000,50000,50000,50000,50000,50000,50000,50000,50000,50000,50000,50000,50000,34000,50000,50000,50000,50000,50000,50000,50000,50000,50000,50000,50000,50000,50000,50000,50000,50000,50000,50000,25000,50000,50000,50000,50000,50000,50000,50000,50000,50000,50000,50000,50000,50000,50000,50000,50000,50000,50000,50000,50000,50000,50000,50000,50000,50000,50000,50000,50000,50000,50000,50000,50000,50000,50000,50000,50000,50000,50000,50000,50000,50000,50000,50000,50000,50000,50000,50000,50000,50000,50000,50000,50000,50000,50000,50000,50000,50000,50000,50000,50000,50000,50000,50000,50000,50000,50000,50000,50000,50000,50000,50000,50000,50000,50000,50000,50000,50000,50000,50000,50000,50000,50000,50000,50000,50000,50000,50000,50000,50000,50000,50000,50000,50000,50000,50000,50000,50000,50000,50000,50000,50000,50000,50000,50000,50000,50000,50000,50000,50000,50000,50000,50000,50000,50000,50000,50000,50000,50000,50000,50000,50000,50000,50000,50000,50000,50000,50000,50000,50000,50000,50000,50000,50000,50000,50000,50000,50000,50000,50000,50000,50000,50000,50000,50000,50000,50000,50000,50000,50000,50000,50000,50000,50000,50000,50000,50000,50000,50000,50000,50000,50000,50000,50000,50000,50000,50000,50000,50000,50000,50000,50000,50000,50000],\"yaxis\":\"y\",\"type\":\"scatter\"}],                        {\"template\":{\"data\":{\"barpolar\":[{\"marker\":{\"line\":{\"color\":\"white\",\"width\":0.5},\"pattern\":{\"fillmode\":\"overlay\",\"size\":10,\"solidity\":0.2}},\"type\":\"barpolar\"}],\"bar\":[{\"error_x\":{\"color\":\"#2a3f5f\"},\"error_y\":{\"color\":\"#2a3f5f\"},\"marker\":{\"line\":{\"color\":\"white\",\"width\":0.5},\"pattern\":{\"fillmode\":\"overlay\",\"size\":10,\"solidity\":0.2}},\"type\":\"bar\"}],\"carpet\":[{\"aaxis\":{\"endlinecolor\":\"#2a3f5f\",\"gridcolor\":\"#C8D4E3\",\"linecolor\":\"#C8D4E3\",\"minorgridcolor\":\"#C8D4E3\",\"startlinecolor\":\"#2a3f5f\"},\"baxis\":{\"endlinecolor\":\"#2a3f5f\",\"gridcolor\":\"#C8D4E3\",\"linecolor\":\"#C8D4E3\",\"minorgridcolor\":\"#C8D4E3\",\"startlinecolor\":\"#2a3f5f\"},\"type\":\"carpet\"}],\"choropleth\":[{\"colorbar\":{\"outlinewidth\":0,\"ticks\":\"\"},\"type\":\"choropleth\"}],\"contourcarpet\":[{\"colorbar\":{\"outlinewidth\":0,\"ticks\":\"\"},\"type\":\"contourcarpet\"}],\"contour\":[{\"colorbar\":{\"outlinewidth\":0,\"ticks\":\"\"},\"colorscale\":[[0.0,\"#0d0887\"],[0.1111111111111111,\"#46039f\"],[0.2222222222222222,\"#7201a8\"],[0.3333333333333333,\"#9c179e\"],[0.4444444444444444,\"#bd3786\"],[0.5555555555555556,\"#d8576b\"],[0.6666666666666666,\"#ed7953\"],[0.7777777777777778,\"#fb9f3a\"],[0.8888888888888888,\"#fdca26\"],[1.0,\"#f0f921\"]],\"type\":\"contour\"}],\"heatmapgl\":[{\"colorbar\":{\"outlinewidth\":0,\"ticks\":\"\"},\"colorscale\":[[0.0,\"#0d0887\"],[0.1111111111111111,\"#46039f\"],[0.2222222222222222,\"#7201a8\"],[0.3333333333333333,\"#9c179e\"],[0.4444444444444444,\"#bd3786\"],[0.5555555555555556,\"#d8576b\"],[0.6666666666666666,\"#ed7953\"],[0.7777777777777778,\"#fb9f3a\"],[0.8888888888888888,\"#fdca26\"],[1.0,\"#f0f921\"]],\"type\":\"heatmapgl\"}],\"heatmap\":[{\"colorbar\":{\"outlinewidth\":0,\"ticks\":\"\"},\"colorscale\":[[0.0,\"#0d0887\"],[0.1111111111111111,\"#46039f\"],[0.2222222222222222,\"#7201a8\"],[0.3333333333333333,\"#9c179e\"],[0.4444444444444444,\"#bd3786\"],[0.5555555555555556,\"#d8576b\"],[0.6666666666666666,\"#ed7953\"],[0.7777777777777778,\"#fb9f3a\"],[0.8888888888888888,\"#fdca26\"],[1.0,\"#f0f921\"]],\"type\":\"heatmap\"}],\"histogram2dcontour\":[{\"colorbar\":{\"outlinewidth\":0,\"ticks\":\"\"},\"colorscale\":[[0.0,\"#0d0887\"],[0.1111111111111111,\"#46039f\"],[0.2222222222222222,\"#7201a8\"],[0.3333333333333333,\"#9c179e\"],[0.4444444444444444,\"#bd3786\"],[0.5555555555555556,\"#d8576b\"],[0.6666666666666666,\"#ed7953\"],[0.7777777777777778,\"#fb9f3a\"],[0.8888888888888888,\"#fdca26\"],[1.0,\"#f0f921\"]],\"type\":\"histogram2dcontour\"}],\"histogram2d\":[{\"colorbar\":{\"outlinewidth\":0,\"ticks\":\"\"},\"colorscale\":[[0.0,\"#0d0887\"],[0.1111111111111111,\"#46039f\"],[0.2222222222222222,\"#7201a8\"],[0.3333333333333333,\"#9c179e\"],[0.4444444444444444,\"#bd3786\"],[0.5555555555555556,\"#d8576b\"],[0.6666666666666666,\"#ed7953\"],[0.7777777777777778,\"#fb9f3a\"],[0.8888888888888888,\"#fdca26\"],[1.0,\"#f0f921\"]],\"type\":\"histogram2d\"}],\"histogram\":[{\"marker\":{\"pattern\":{\"fillmode\":\"overlay\",\"size\":10,\"solidity\":0.2}},\"type\":\"histogram\"}],\"mesh3d\":[{\"colorbar\":{\"outlinewidth\":0,\"ticks\":\"\"},\"type\":\"mesh3d\"}],\"parcoords\":[{\"line\":{\"colorbar\":{\"outlinewidth\":0,\"ticks\":\"\"}},\"type\":\"parcoords\"}],\"pie\":[{\"automargin\":true,\"type\":\"pie\"}],\"scatter3d\":[{\"line\":{\"colorbar\":{\"outlinewidth\":0,\"ticks\":\"\"}},\"marker\":{\"colorbar\":{\"outlinewidth\":0,\"ticks\":\"\"}},\"type\":\"scatter3d\"}],\"scattercarpet\":[{\"marker\":{\"colorbar\":{\"outlinewidth\":0,\"ticks\":\"\"}},\"type\":\"scattercarpet\"}],\"scattergeo\":[{\"marker\":{\"colorbar\":{\"outlinewidth\":0,\"ticks\":\"\"}},\"type\":\"scattergeo\"}],\"scattergl\":[{\"marker\":{\"colorbar\":{\"outlinewidth\":0,\"ticks\":\"\"}},\"type\":\"scattergl\"}],\"scattermapbox\":[{\"marker\":{\"colorbar\":{\"outlinewidth\":0,\"ticks\":\"\"}},\"type\":\"scattermapbox\"}],\"scatterpolargl\":[{\"marker\":{\"colorbar\":{\"outlinewidth\":0,\"ticks\":\"\"}},\"type\":\"scatterpolargl\"}],\"scatterpolar\":[{\"marker\":{\"colorbar\":{\"outlinewidth\":0,\"ticks\":\"\"}},\"type\":\"scatterpolar\"}],\"scatter\":[{\"fillpattern\":{\"fillmode\":\"overlay\",\"size\":10,\"solidity\":0.2},\"type\":\"scatter\"}],\"scatterternary\":[{\"marker\":{\"colorbar\":{\"outlinewidth\":0,\"ticks\":\"\"}},\"type\":\"scatterternary\"}],\"surface\":[{\"colorbar\":{\"outlinewidth\":0,\"ticks\":\"\"},\"colorscale\":[[0.0,\"#0d0887\"],[0.1111111111111111,\"#46039f\"],[0.2222222222222222,\"#7201a8\"],[0.3333333333333333,\"#9c179e\"],[0.4444444444444444,\"#bd3786\"],[0.5555555555555556,\"#d8576b\"],[0.6666666666666666,\"#ed7953\"],[0.7777777777777778,\"#fb9f3a\"],[0.8888888888888888,\"#fdca26\"],[1.0,\"#f0f921\"]],\"type\":\"surface\"}],\"table\":[{\"cells\":{\"fill\":{\"color\":\"#EBF0F8\"},\"line\":{\"color\":\"white\"}},\"header\":{\"fill\":{\"color\":\"#C8D4E3\"},\"line\":{\"color\":\"white\"}},\"type\":\"table\"}]},\"layout\":{\"annotationdefaults\":{\"arrowcolor\":\"#2a3f5f\",\"arrowhead\":0,\"arrowwidth\":1},\"autotypenumbers\":\"strict\",\"coloraxis\":{\"colorbar\":{\"outlinewidth\":0,\"ticks\":\"\"}},\"colorscale\":{\"diverging\":[[0,\"#8e0152\"],[0.1,\"#c51b7d\"],[0.2,\"#de77ae\"],[0.3,\"#f1b6da\"],[0.4,\"#fde0ef\"],[0.5,\"#f7f7f7\"],[0.6,\"#e6f5d0\"],[0.7,\"#b8e186\"],[0.8,\"#7fbc41\"],[0.9,\"#4d9221\"],[1,\"#276419\"]],\"sequential\":[[0.0,\"#0d0887\"],[0.1111111111111111,\"#46039f\"],[0.2222222222222222,\"#7201a8\"],[0.3333333333333333,\"#9c179e\"],[0.4444444444444444,\"#bd3786\"],[0.5555555555555556,\"#d8576b\"],[0.6666666666666666,\"#ed7953\"],[0.7777777777777778,\"#fb9f3a\"],[0.8888888888888888,\"#fdca26\"],[1.0,\"#f0f921\"]],\"sequentialminus\":[[0.0,\"#0d0887\"],[0.1111111111111111,\"#46039f\"],[0.2222222222222222,\"#7201a8\"],[0.3333333333333333,\"#9c179e\"],[0.4444444444444444,\"#bd3786\"],[0.5555555555555556,\"#d8576b\"],[0.6666666666666666,\"#ed7953\"],[0.7777777777777778,\"#fb9f3a\"],[0.8888888888888888,\"#fdca26\"],[1.0,\"#f0f921\"]]},\"colorway\":[\"#636efa\",\"#EF553B\",\"#00cc96\",\"#ab63fa\",\"#FFA15A\",\"#19d3f3\",\"#FF6692\",\"#B6E880\",\"#FF97FF\",\"#FECB52\"],\"font\":{\"color\":\"#2a3f5f\"},\"geo\":{\"bgcolor\":\"white\",\"lakecolor\":\"white\",\"landcolor\":\"white\",\"showlakes\":true,\"showland\":true,\"subunitcolor\":\"#C8D4E3\"},\"hoverlabel\":{\"align\":\"left\"},\"hovermode\":\"closest\",\"mapbox\":{\"style\":\"light\"},\"paper_bgcolor\":\"white\",\"plot_bgcolor\":\"white\",\"polar\":{\"angularaxis\":{\"gridcolor\":\"#EBF0F8\",\"linecolor\":\"#EBF0F8\",\"ticks\":\"\"},\"bgcolor\":\"white\",\"radialaxis\":{\"gridcolor\":\"#EBF0F8\",\"linecolor\":\"#EBF0F8\",\"ticks\":\"\"}},\"scene\":{\"xaxis\":{\"backgroundcolor\":\"white\",\"gridcolor\":\"#DFE8F3\",\"gridwidth\":2,\"linecolor\":\"#EBF0F8\",\"showbackground\":true,\"ticks\":\"\",\"zerolinecolor\":\"#EBF0F8\"},\"yaxis\":{\"backgroundcolor\":\"white\",\"gridcolor\":\"#DFE8F3\",\"gridwidth\":2,\"linecolor\":\"#EBF0F8\",\"showbackground\":true,\"ticks\":\"\",\"zerolinecolor\":\"#EBF0F8\"},\"zaxis\":{\"backgroundcolor\":\"white\",\"gridcolor\":\"#DFE8F3\",\"gridwidth\":2,\"linecolor\":\"#EBF0F8\",\"showbackground\":true,\"ticks\":\"\",\"zerolinecolor\":\"#EBF0F8\"}},\"shapedefaults\":{\"line\":{\"color\":\"#2a3f5f\"}},\"ternary\":{\"aaxis\":{\"gridcolor\":\"#DFE8F3\",\"linecolor\":\"#A2B1C6\",\"ticks\":\"\"},\"baxis\":{\"gridcolor\":\"#DFE8F3\",\"linecolor\":\"#A2B1C6\",\"ticks\":\"\"},\"bgcolor\":\"white\",\"caxis\":{\"gridcolor\":\"#DFE8F3\",\"linecolor\":\"#A2B1C6\",\"ticks\":\"\"}},\"title\":{\"x\":0.05},\"xaxis\":{\"automargin\":true,\"gridcolor\":\"#EBF0F8\",\"linecolor\":\"#EBF0F8\",\"ticks\":\"\",\"title\":{\"standoff\":15},\"zerolinecolor\":\"#EBF0F8\",\"zerolinewidth\":2},\"yaxis\":{\"automargin\":true,\"gridcolor\":\"#EBF0F8\",\"linecolor\":\"#EBF0F8\",\"ticks\":\"\",\"title\":{\"standoff\":15},\"zerolinecolor\":\"#EBF0F8\",\"zerolinewidth\":2}}},\"xaxis\":{\"anchor\":\"y\",\"domain\":[0.0,1.0],\"title\":{\"text\":\"Event Time_new\"},\"tickfont\":{\"size\":12},\"tickangle\":0},\"yaxis\":{\"anchor\":\"x\",\"domain\":[0.0,1.0],\"title\":{\"text\":\"Transaction Amount\"}},\"legend\":{\"tracegroupgap\":0},\"margin\":{\"t\":60},\"height\":500,\"width\":800,\"uniformtext\":{\"minsize\":12},\"showlegend\":true},                        {\"responsive\": true}                    ).then(function(){\n",
       "                            \n",
       "var gd = document.getElementById('db44d6d8-a51c-41a7-b2fa-8204bf99faaf');\n",
       "var x = new MutationObserver(function (mutations, observer) {{\n",
       "        var display = window.getComputedStyle(gd).display;\n",
       "        if (!display || display === 'none') {{\n",
       "            console.log([gd, 'removed!']);\n",
       "            Plotly.purge(gd);\n",
       "            observer.disconnect();\n",
       "        }}\n",
       "}});\n",
       "\n",
       "// Listen for the removal of the full notebook cells\n",
       "var notebookContainer = gd.closest('#notebook-container');\n",
       "if (notebookContainer) {{\n",
       "    x.observe(notebookContainer, {childList: true});\n",
       "}}\n",
       "\n",
       "// Listen for the clearing of the current output cell\n",
       "var outputEl = gd.closest('.output');\n",
       "if (outputEl) {{\n",
       "    x.observe(outputEl, {childList: true});\n",
       "}}\n",
       "\n",
       "                        })                };                });            </script>        </div>"
      ]
     },
     "metadata": {},
     "output_type": "display_data"
    }
   ],
   "source": [
    "### Plot graph to see more information about time and transaction amount\n",
    "\n",
    "fig = px.scatter(data_frame = df,\n",
    "                 x = 'Event Time_new', y = 'Transaction Amount',\n",
    "                 template = 'plotly_white', width = 800, height = 500)\n",
    "fig.update_layout(showlegend = True, uniformtext_minsize = 12, xaxis_tickangle = 0, xaxis_tickfont_size = 12)\n",
    "fig.show()"
   ]
  },
  {
   "cell_type": "code",
   "execution_count": 122,
   "id": "002f990b",
   "metadata": {},
   "outputs": [
    {
     "data": {
      "application/vnd.plotly.v1+json": {
       "config": {
        "plotlyServerURL": "https://plot.ly"
       },
       "data": [
        {
         "hovertemplate": "Event Time_hour=%{x}<br>Transaction Amount=%{y}<br>Policy Score=%{marker.color}<extra></extra>",
         "legendgroup": "",
         "marker": {
          "color": [
           35,
           35,
           35,
           35,
           35,
           35,
           35,
           36,
           34,
           36,
           36,
           36,
           36,
           30,
           30,
           30,
           30,
           30,
           30,
           30,
           30,
           30,
           30,
           31,
           36,
           36,
           36,
           36,
           36,
           36,
           36,
           36,
           36,
           36,
           36,
           33,
           33,
           33,
           33,
           33,
           34,
           33,
           33,
           33,
           33,
           34,
           41,
           41,
           41,
           41,
           41,
           41,
           41,
           41,
           41,
           41,
           41,
           39,
           39,
           39,
           39,
           39,
           39,
           39,
           39,
           39,
           39,
           39,
           39,
           39,
           39,
           26,
           -11,
           35,
           35,
           35,
           35,
           35,
           35,
           35,
           35,
           35,
           35,
           36,
           26,
           26,
           26,
           26,
           26,
           39,
           39,
           35,
           35,
           35,
           35,
           35,
           23,
           34,
           34,
           34,
           34,
           34,
           34,
           34,
           34,
           34,
           34,
           34,
           24,
           24,
           24,
           24,
           19,
           19,
           19,
           19,
           19,
           19,
           19,
           19,
           19,
           19,
           19,
           19,
           19,
           19,
           19,
           19,
           19,
           26,
           19,
           19,
           19,
           19,
           19,
           14,
           14,
           14,
           14,
           14,
           24,
           24,
           24,
           24,
           24,
           24,
           26,
           26,
           26,
           26,
           26,
           26,
           -18,
           -18,
           -18,
           -18,
           -18,
           -18,
           -18,
           -18,
           -18,
           -18,
           -17,
           31,
           31,
           31,
           31,
           31,
           31,
           31,
           31,
           31,
           31,
           18,
           28,
           28,
           28,
           28,
           28,
           28,
           28,
           28,
           28,
           29,
           29,
           29,
           29,
           29,
           29,
           29,
           29,
           29,
           29,
           29,
           13,
           30,
           30,
           31,
           36,
           36,
           36,
           36,
           36,
           36,
           36,
           30,
           30,
           30,
           30,
           30,
           30,
           30,
           30,
           30,
           30,
           31,
           10,
           10,
           10,
           10,
           10,
           10,
           10,
           10,
           10,
           10,
           11,
           31,
           31,
           31,
           31,
           31,
           31,
           31,
           36,
           36,
           36,
           36,
           36,
           36,
           36,
           36,
           36,
           36,
           36,
           36,
           36,
           36,
           31,
           32,
           32,
           32,
           32,
           32,
           32,
           32,
           32,
           32,
           32,
           32,
           34,
           34,
           34,
           34,
           31
          ],
          "coloraxis": "coloraxis",
          "symbol": "circle"
         },
         "mode": "markers",
         "name": "",
         "orientation": "v",
         "showlegend": false,
         "type": "scatter",
         "x": [
          6,
          6,
          6,
          6,
          6,
          6,
          6,
          6,
          3,
          3,
          3,
          3,
          3,
          8,
          8,
          8,
          8,
          8,
          8,
          8,
          8,
          8,
          8,
          8,
          11,
          11,
          11,
          11,
          11,
          11,
          11,
          11,
          11,
          11,
          11,
          1,
          1,
          1,
          1,
          1,
          1,
          2,
          2,
          2,
          2,
          2,
          15,
          15,
          15,
          15,
          15,
          15,
          15,
          15,
          15,
          15,
          15,
          2,
          2,
          2,
          2,
          2,
          2,
          2,
          4,
          4,
          4,
          4,
          4,
          4,
          4,
          4,
          4,
          9,
          9,
          9,
          9,
          9,
          9,
          9,
          9,
          9,
          9,
          9,
          11,
          11,
          11,
          11,
          11,
          11,
          11,
          4,
          4,
          4,
          4,
          4,
          4,
          7,
          7,
          7,
          7,
          7,
          7,
          7,
          7,
          7,
          7,
          7,
          2,
          2,
          2,
          2,
          2,
          2,
          2,
          2,
          2,
          2,
          2,
          4,
          4,
          4,
          4,
          4,
          4,
          4,
          4,
          4,
          4,
          4,
          1,
          1,
          1,
          1,
          1,
          1,
          1,
          1,
          1,
          1,
          1,
          16,
          16,
          16,
          16,
          16,
          16,
          16,
          16,
          16,
          16,
          16,
          14,
          14,
          14,
          14,
          14,
          14,
          14,
          14,
          14,
          14,
          14,
          1,
          1,
          1,
          1,
          1,
          1,
          1,
          1,
          1,
          1,
          1,
          9,
          9,
          9,
          9,
          9,
          9,
          9,
          9,
          9,
          9,
          16,
          16,
          16,
          16,
          16,
          16,
          16,
          16,
          16,
          16,
          16,
          16,
          16,
          16,
          16,
          16,
          16,
          16,
          16,
          16,
          16,
          15,
          15,
          15,
          15,
          15,
          15,
          15,
          15,
          15,
          15,
          15,
          6,
          6,
          6,
          6,
          6,
          6,
          6,
          6,
          6,
          6,
          6,
          16,
          16,
          16,
          16,
          16,
          16,
          16,
          16,
          16,
          16,
          16,
          3,
          3,
          3,
          3,
          3,
          3,
          3,
          3,
          3,
          3,
          3,
          18,
          18,
          18,
          18,
          18,
          18,
          18,
          18,
          18,
          18,
          18,
          13,
          13,
          13,
          13,
          13
         ],
         "xaxis": "x",
         "y": [
          50000,
          50000,
          50000,
          50000,
          50000,
          50000,
          50000,
          50000,
          50000,
          50000,
          50000,
          50000,
          50000,
          50000,
          50000,
          50000,
          50000,
          50000,
          50000,
          50000,
          50000,
          50000,
          50000,
          50000,
          50000,
          50000,
          50000,
          50000,
          50000,
          50000,
          50000,
          50000,
          50000,
          50000,
          50000,
          22000,
          50000,
          50000,
          50000,
          50000,
          50000,
          50000,
          50000,
          50000,
          50000,
          50000,
          50000,
          50000,
          50000,
          50000,
          50000,
          50000,
          50000,
          50000,
          50000,
          50000,
          50000,
          42000,
          50000,
          50000,
          50000,
          50000,
          50000,
          50000,
          50000,
          50000,
          50000,
          50000,
          50000,
          50000,
          50000,
          50000,
          34000,
          50000,
          50000,
          50000,
          50000,
          50000,
          50000,
          50000,
          50000,
          50000,
          50000,
          50000,
          50000,
          50000,
          50000,
          50000,
          50000,
          50000,
          50000,
          25000,
          50000,
          50000,
          50000,
          50000,
          50000,
          50000,
          50000,
          50000,
          50000,
          50000,
          50000,
          50000,
          50000,
          50000,
          50000,
          50000,
          50000,
          50000,
          50000,
          50000,
          50000,
          50000,
          50000,
          50000,
          50000,
          50000,
          50000,
          50000,
          50000,
          50000,
          50000,
          50000,
          50000,
          50000,
          50000,
          50000,
          50000,
          50000,
          50000,
          50000,
          50000,
          50000,
          50000,
          50000,
          50000,
          50000,
          50000,
          50000,
          50000,
          50000,
          50000,
          50000,
          50000,
          50000,
          50000,
          50000,
          50000,
          50000,
          50000,
          50000,
          50000,
          50000,
          50000,
          50000,
          50000,
          50000,
          50000,
          50000,
          50000,
          50000,
          50000,
          50000,
          50000,
          50000,
          50000,
          50000,
          50000,
          50000,
          50000,
          50000,
          50000,
          50000,
          50000,
          50000,
          50000,
          50000,
          50000,
          50000,
          50000,
          50000,
          50000,
          50000,
          50000,
          50000,
          50000,
          50000,
          50000,
          50000,
          50000,
          50000,
          50000,
          50000,
          50000,
          50000,
          50000,
          50000,
          50000,
          50000,
          50000,
          50000,
          50000,
          50000,
          50000,
          50000,
          50000,
          50000,
          50000,
          50000,
          50000,
          50000,
          50000,
          50000,
          50000,
          50000,
          50000,
          50000,
          50000,
          50000,
          50000,
          50000,
          50000,
          50000,
          50000,
          50000,
          50000,
          50000,
          50000,
          50000,
          50000,
          50000,
          50000,
          50000,
          50000,
          50000,
          50000,
          50000,
          50000,
          50000,
          50000,
          50000,
          50000,
          50000,
          50000,
          50000,
          50000,
          50000,
          50000,
          50000,
          50000,
          50000,
          50000,
          50000,
          50000,
          50000,
          50000,
          50000,
          50000,
          50000,
          50000,
          50000,
          50000,
          50000,
          50000
         ],
         "yaxis": "y"
        }
       ],
       "layout": {
        "coloraxis": {
         "colorbar": {
          "title": {
           "text": "Policy Score"
          }
         },
         "colorscale": [
          [
           0,
           "#0d0887"
          ],
          [
           0.1111111111111111,
           "#46039f"
          ],
          [
           0.2222222222222222,
           "#7201a8"
          ],
          [
           0.3333333333333333,
           "#9c179e"
          ],
          [
           0.4444444444444444,
           "#bd3786"
          ],
          [
           0.5555555555555556,
           "#d8576b"
          ],
          [
           0.6666666666666666,
           "#ed7953"
          ],
          [
           0.7777777777777778,
           "#fb9f3a"
          ],
          [
           0.8888888888888888,
           "#fdca26"
          ],
          [
           1,
           "#f0f921"
          ]
         ]
        },
        "height": 500,
        "legend": {
         "tracegroupgap": 0
        },
        "margin": {
         "t": 60
        },
        "showlegend": true,
        "template": {
         "data": {
          "bar": [
           {
            "error_x": {
             "color": "#2a3f5f"
            },
            "error_y": {
             "color": "#2a3f5f"
            },
            "marker": {
             "line": {
              "color": "white",
              "width": 0.5
             },
             "pattern": {
              "fillmode": "overlay",
              "size": 10,
              "solidity": 0.2
             }
            },
            "type": "bar"
           }
          ],
          "barpolar": [
           {
            "marker": {
             "line": {
              "color": "white",
              "width": 0.5
             },
             "pattern": {
              "fillmode": "overlay",
              "size": 10,
              "solidity": 0.2
             }
            },
            "type": "barpolar"
           }
          ],
          "carpet": [
           {
            "aaxis": {
             "endlinecolor": "#2a3f5f",
             "gridcolor": "#C8D4E3",
             "linecolor": "#C8D4E3",
             "minorgridcolor": "#C8D4E3",
             "startlinecolor": "#2a3f5f"
            },
            "baxis": {
             "endlinecolor": "#2a3f5f",
             "gridcolor": "#C8D4E3",
             "linecolor": "#C8D4E3",
             "minorgridcolor": "#C8D4E3",
             "startlinecolor": "#2a3f5f"
            },
            "type": "carpet"
           }
          ],
          "choropleth": [
           {
            "colorbar": {
             "outlinewidth": 0,
             "ticks": ""
            },
            "type": "choropleth"
           }
          ],
          "contour": [
           {
            "colorbar": {
             "outlinewidth": 0,
             "ticks": ""
            },
            "colorscale": [
             [
              0,
              "#0d0887"
             ],
             [
              0.1111111111111111,
              "#46039f"
             ],
             [
              0.2222222222222222,
              "#7201a8"
             ],
             [
              0.3333333333333333,
              "#9c179e"
             ],
             [
              0.4444444444444444,
              "#bd3786"
             ],
             [
              0.5555555555555556,
              "#d8576b"
             ],
             [
              0.6666666666666666,
              "#ed7953"
             ],
             [
              0.7777777777777778,
              "#fb9f3a"
             ],
             [
              0.8888888888888888,
              "#fdca26"
             ],
             [
              1,
              "#f0f921"
             ]
            ],
            "type": "contour"
           }
          ],
          "contourcarpet": [
           {
            "colorbar": {
             "outlinewidth": 0,
             "ticks": ""
            },
            "type": "contourcarpet"
           }
          ],
          "heatmap": [
           {
            "colorbar": {
             "outlinewidth": 0,
             "ticks": ""
            },
            "colorscale": [
             [
              0,
              "#0d0887"
             ],
             [
              0.1111111111111111,
              "#46039f"
             ],
             [
              0.2222222222222222,
              "#7201a8"
             ],
             [
              0.3333333333333333,
              "#9c179e"
             ],
             [
              0.4444444444444444,
              "#bd3786"
             ],
             [
              0.5555555555555556,
              "#d8576b"
             ],
             [
              0.6666666666666666,
              "#ed7953"
             ],
             [
              0.7777777777777778,
              "#fb9f3a"
             ],
             [
              0.8888888888888888,
              "#fdca26"
             ],
             [
              1,
              "#f0f921"
             ]
            ],
            "type": "heatmap"
           }
          ],
          "heatmapgl": [
           {
            "colorbar": {
             "outlinewidth": 0,
             "ticks": ""
            },
            "colorscale": [
             [
              0,
              "#0d0887"
             ],
             [
              0.1111111111111111,
              "#46039f"
             ],
             [
              0.2222222222222222,
              "#7201a8"
             ],
             [
              0.3333333333333333,
              "#9c179e"
             ],
             [
              0.4444444444444444,
              "#bd3786"
             ],
             [
              0.5555555555555556,
              "#d8576b"
             ],
             [
              0.6666666666666666,
              "#ed7953"
             ],
             [
              0.7777777777777778,
              "#fb9f3a"
             ],
             [
              0.8888888888888888,
              "#fdca26"
             ],
             [
              1,
              "#f0f921"
             ]
            ],
            "type": "heatmapgl"
           }
          ],
          "histogram": [
           {
            "marker": {
             "pattern": {
              "fillmode": "overlay",
              "size": 10,
              "solidity": 0.2
             }
            },
            "type": "histogram"
           }
          ],
          "histogram2d": [
           {
            "colorbar": {
             "outlinewidth": 0,
             "ticks": ""
            },
            "colorscale": [
             [
              0,
              "#0d0887"
             ],
             [
              0.1111111111111111,
              "#46039f"
             ],
             [
              0.2222222222222222,
              "#7201a8"
             ],
             [
              0.3333333333333333,
              "#9c179e"
             ],
             [
              0.4444444444444444,
              "#bd3786"
             ],
             [
              0.5555555555555556,
              "#d8576b"
             ],
             [
              0.6666666666666666,
              "#ed7953"
             ],
             [
              0.7777777777777778,
              "#fb9f3a"
             ],
             [
              0.8888888888888888,
              "#fdca26"
             ],
             [
              1,
              "#f0f921"
             ]
            ],
            "type": "histogram2d"
           }
          ],
          "histogram2dcontour": [
           {
            "colorbar": {
             "outlinewidth": 0,
             "ticks": ""
            },
            "colorscale": [
             [
              0,
              "#0d0887"
             ],
             [
              0.1111111111111111,
              "#46039f"
             ],
             [
              0.2222222222222222,
              "#7201a8"
             ],
             [
              0.3333333333333333,
              "#9c179e"
             ],
             [
              0.4444444444444444,
              "#bd3786"
             ],
             [
              0.5555555555555556,
              "#d8576b"
             ],
             [
              0.6666666666666666,
              "#ed7953"
             ],
             [
              0.7777777777777778,
              "#fb9f3a"
             ],
             [
              0.8888888888888888,
              "#fdca26"
             ],
             [
              1,
              "#f0f921"
             ]
            ],
            "type": "histogram2dcontour"
           }
          ],
          "mesh3d": [
           {
            "colorbar": {
             "outlinewidth": 0,
             "ticks": ""
            },
            "type": "mesh3d"
           }
          ],
          "parcoords": [
           {
            "line": {
             "colorbar": {
              "outlinewidth": 0,
              "ticks": ""
             }
            },
            "type": "parcoords"
           }
          ],
          "pie": [
           {
            "automargin": true,
            "type": "pie"
           }
          ],
          "scatter": [
           {
            "fillpattern": {
             "fillmode": "overlay",
             "size": 10,
             "solidity": 0.2
            },
            "type": "scatter"
           }
          ],
          "scatter3d": [
           {
            "line": {
             "colorbar": {
              "outlinewidth": 0,
              "ticks": ""
             }
            },
            "marker": {
             "colorbar": {
              "outlinewidth": 0,
              "ticks": ""
             }
            },
            "type": "scatter3d"
           }
          ],
          "scattercarpet": [
           {
            "marker": {
             "colorbar": {
              "outlinewidth": 0,
              "ticks": ""
             }
            },
            "type": "scattercarpet"
           }
          ],
          "scattergeo": [
           {
            "marker": {
             "colorbar": {
              "outlinewidth": 0,
              "ticks": ""
             }
            },
            "type": "scattergeo"
           }
          ],
          "scattergl": [
           {
            "marker": {
             "colorbar": {
              "outlinewidth": 0,
              "ticks": ""
             }
            },
            "type": "scattergl"
           }
          ],
          "scattermapbox": [
           {
            "marker": {
             "colorbar": {
              "outlinewidth": 0,
              "ticks": ""
             }
            },
            "type": "scattermapbox"
           }
          ],
          "scatterpolar": [
           {
            "marker": {
             "colorbar": {
              "outlinewidth": 0,
              "ticks": ""
             }
            },
            "type": "scatterpolar"
           }
          ],
          "scatterpolargl": [
           {
            "marker": {
             "colorbar": {
              "outlinewidth": 0,
              "ticks": ""
             }
            },
            "type": "scatterpolargl"
           }
          ],
          "scatterternary": [
           {
            "marker": {
             "colorbar": {
              "outlinewidth": 0,
              "ticks": ""
             }
            },
            "type": "scatterternary"
           }
          ],
          "surface": [
           {
            "colorbar": {
             "outlinewidth": 0,
             "ticks": ""
            },
            "colorscale": [
             [
              0,
              "#0d0887"
             ],
             [
              0.1111111111111111,
              "#46039f"
             ],
             [
              0.2222222222222222,
              "#7201a8"
             ],
             [
              0.3333333333333333,
              "#9c179e"
             ],
             [
              0.4444444444444444,
              "#bd3786"
             ],
             [
              0.5555555555555556,
              "#d8576b"
             ],
             [
              0.6666666666666666,
              "#ed7953"
             ],
             [
              0.7777777777777778,
              "#fb9f3a"
             ],
             [
              0.8888888888888888,
              "#fdca26"
             ],
             [
              1,
              "#f0f921"
             ]
            ],
            "type": "surface"
           }
          ],
          "table": [
           {
            "cells": {
             "fill": {
              "color": "#EBF0F8"
             },
             "line": {
              "color": "white"
             }
            },
            "header": {
             "fill": {
              "color": "#C8D4E3"
             },
             "line": {
              "color": "white"
             }
            },
            "type": "table"
           }
          ]
         },
         "layout": {
          "annotationdefaults": {
           "arrowcolor": "#2a3f5f",
           "arrowhead": 0,
           "arrowwidth": 1
          },
          "autotypenumbers": "strict",
          "coloraxis": {
           "colorbar": {
            "outlinewidth": 0,
            "ticks": ""
           }
          },
          "colorscale": {
           "diverging": [
            [
             0,
             "#8e0152"
            ],
            [
             0.1,
             "#c51b7d"
            ],
            [
             0.2,
             "#de77ae"
            ],
            [
             0.3,
             "#f1b6da"
            ],
            [
             0.4,
             "#fde0ef"
            ],
            [
             0.5,
             "#f7f7f7"
            ],
            [
             0.6,
             "#e6f5d0"
            ],
            [
             0.7,
             "#b8e186"
            ],
            [
             0.8,
             "#7fbc41"
            ],
            [
             0.9,
             "#4d9221"
            ],
            [
             1,
             "#276419"
            ]
           ],
           "sequential": [
            [
             0,
             "#0d0887"
            ],
            [
             0.1111111111111111,
             "#46039f"
            ],
            [
             0.2222222222222222,
             "#7201a8"
            ],
            [
             0.3333333333333333,
             "#9c179e"
            ],
            [
             0.4444444444444444,
             "#bd3786"
            ],
            [
             0.5555555555555556,
             "#d8576b"
            ],
            [
             0.6666666666666666,
             "#ed7953"
            ],
            [
             0.7777777777777778,
             "#fb9f3a"
            ],
            [
             0.8888888888888888,
             "#fdca26"
            ],
            [
             1,
             "#f0f921"
            ]
           ],
           "sequentialminus": [
            [
             0,
             "#0d0887"
            ],
            [
             0.1111111111111111,
             "#46039f"
            ],
            [
             0.2222222222222222,
             "#7201a8"
            ],
            [
             0.3333333333333333,
             "#9c179e"
            ],
            [
             0.4444444444444444,
             "#bd3786"
            ],
            [
             0.5555555555555556,
             "#d8576b"
            ],
            [
             0.6666666666666666,
             "#ed7953"
            ],
            [
             0.7777777777777778,
             "#fb9f3a"
            ],
            [
             0.8888888888888888,
             "#fdca26"
            ],
            [
             1,
             "#f0f921"
            ]
           ]
          },
          "colorway": [
           "#636efa",
           "#EF553B",
           "#00cc96",
           "#ab63fa",
           "#FFA15A",
           "#19d3f3",
           "#FF6692",
           "#B6E880",
           "#FF97FF",
           "#FECB52"
          ],
          "font": {
           "color": "#2a3f5f"
          },
          "geo": {
           "bgcolor": "white",
           "lakecolor": "white",
           "landcolor": "white",
           "showlakes": true,
           "showland": true,
           "subunitcolor": "#C8D4E3"
          },
          "hoverlabel": {
           "align": "left"
          },
          "hovermode": "closest",
          "mapbox": {
           "style": "light"
          },
          "paper_bgcolor": "white",
          "plot_bgcolor": "white",
          "polar": {
           "angularaxis": {
            "gridcolor": "#EBF0F8",
            "linecolor": "#EBF0F8",
            "ticks": ""
           },
           "bgcolor": "white",
           "radialaxis": {
            "gridcolor": "#EBF0F8",
            "linecolor": "#EBF0F8",
            "ticks": ""
           }
          },
          "scene": {
           "xaxis": {
            "backgroundcolor": "white",
            "gridcolor": "#DFE8F3",
            "gridwidth": 2,
            "linecolor": "#EBF0F8",
            "showbackground": true,
            "ticks": "",
            "zerolinecolor": "#EBF0F8"
           },
           "yaxis": {
            "backgroundcolor": "white",
            "gridcolor": "#DFE8F3",
            "gridwidth": 2,
            "linecolor": "#EBF0F8",
            "showbackground": true,
            "ticks": "",
            "zerolinecolor": "#EBF0F8"
           },
           "zaxis": {
            "backgroundcolor": "white",
            "gridcolor": "#DFE8F3",
            "gridwidth": 2,
            "linecolor": "#EBF0F8",
            "showbackground": true,
            "ticks": "",
            "zerolinecolor": "#EBF0F8"
           }
          },
          "shapedefaults": {
           "line": {
            "color": "#2a3f5f"
           }
          },
          "ternary": {
           "aaxis": {
            "gridcolor": "#DFE8F3",
            "linecolor": "#A2B1C6",
            "ticks": ""
           },
           "baxis": {
            "gridcolor": "#DFE8F3",
            "linecolor": "#A2B1C6",
            "ticks": ""
           },
           "bgcolor": "white",
           "caxis": {
            "gridcolor": "#DFE8F3",
            "linecolor": "#A2B1C6",
            "ticks": ""
           }
          },
          "title": {
           "x": 0.05
          },
          "xaxis": {
           "automargin": true,
           "gridcolor": "#EBF0F8",
           "linecolor": "#EBF0F8",
           "ticks": "",
           "title": {
            "standoff": 15
           },
           "zerolinecolor": "#EBF0F8",
           "zerolinewidth": 2
          },
          "yaxis": {
           "automargin": true,
           "gridcolor": "#EBF0F8",
           "linecolor": "#EBF0F8",
           "ticks": "",
           "title": {
            "standoff": 15
           },
           "zerolinecolor": "#EBF0F8",
           "zerolinewidth": 2
          }
         }
        },
        "uniformtext": {
         "minsize": 12
        },
        "width": 800,
        "xaxis": {
         "anchor": "y",
         "domain": [
          0,
          1
         ],
         "tickangle": 0,
         "tickfont": {
          "size": 12
         },
         "title": {
          "text": "Event Time_hour"
         }
        },
        "yaxis": {
         "anchor": "x",
         "domain": [
          0,
          1
         ],
         "title": {
          "text": "Transaction Amount"
         }
        }
       }
      },
      "text/html": [
       "<div>                            <div id=\"4fea0ea7-d3ec-4c55-83a9-c6b830a513f2\" class=\"plotly-graph-div\" style=\"height:500px; width:800px;\"></div>            <script type=\"text/javascript\">                require([\"plotly\"], function(Plotly) {                    window.PLOTLYENV=window.PLOTLYENV || {};                                    if (document.getElementById(\"4fea0ea7-d3ec-4c55-83a9-c6b830a513f2\")) {                    Plotly.newPlot(                        \"4fea0ea7-d3ec-4c55-83a9-c6b830a513f2\",                        [{\"hovertemplate\":\"Event Time_hour=%{x}<br>Transaction Amount=%{y}<br>Policy Score=%{marker.color}<extra></extra>\",\"legendgroup\":\"\",\"marker\":{\"color\":[35,35,35,35,35,35,35,36,34,36,36,36,36,30,30,30,30,30,30,30,30,30,30,31,36,36,36,36,36,36,36,36,36,36,36,33,33,33,33,33,34,33,33,33,33,34,41,41,41,41,41,41,41,41,41,41,41,39,39,39,39,39,39,39,39,39,39,39,39,39,39,26,-11,35,35,35,35,35,35,35,35,35,35,36,26,26,26,26,26,39,39,35,35,35,35,35,23,34,34,34,34,34,34,34,34,34,34,34,24,24,24,24,19,19,19,19,19,19,19,19,19,19,19,19,19,19,19,19,19,26,19,19,19,19,19,14,14,14,14,14,24,24,24,24,24,24,26,26,26,26,26,26,-18,-18,-18,-18,-18,-18,-18,-18,-18,-18,-17,31,31,31,31,31,31,31,31,31,31,18,28,28,28,28,28,28,28,28,28,29,29,29,29,29,29,29,29,29,29,29,13,30,30,31,36,36,36,36,36,36,36,30,30,30,30,30,30,30,30,30,30,31,10,10,10,10,10,10,10,10,10,10,11,31,31,31,31,31,31,31,36,36,36,36,36,36,36,36,36,36,36,36,36,36,31,32,32,32,32,32,32,32,32,32,32,32,34,34,34,34,31],\"coloraxis\":\"coloraxis\",\"symbol\":\"circle\"},\"mode\":\"markers\",\"name\":\"\",\"orientation\":\"v\",\"showlegend\":false,\"x\":[6,6,6,6,6,6,6,6,3,3,3,3,3,8,8,8,8,8,8,8,8,8,8,8,11,11,11,11,11,11,11,11,11,11,11,1,1,1,1,1,1,2,2,2,2,2,15,15,15,15,15,15,15,15,15,15,15,2,2,2,2,2,2,2,4,4,4,4,4,4,4,4,4,9,9,9,9,9,9,9,9,9,9,9,11,11,11,11,11,11,11,4,4,4,4,4,4,7,7,7,7,7,7,7,7,7,7,7,2,2,2,2,2,2,2,2,2,2,2,4,4,4,4,4,4,4,4,4,4,4,1,1,1,1,1,1,1,1,1,1,1,16,16,16,16,16,16,16,16,16,16,16,14,14,14,14,14,14,14,14,14,14,14,1,1,1,1,1,1,1,1,1,1,1,9,9,9,9,9,9,9,9,9,9,16,16,16,16,16,16,16,16,16,16,16,16,16,16,16,16,16,16,16,16,16,15,15,15,15,15,15,15,15,15,15,15,6,6,6,6,6,6,6,6,6,6,6,16,16,16,16,16,16,16,16,16,16,16,3,3,3,3,3,3,3,3,3,3,3,18,18,18,18,18,18,18,18,18,18,18,13,13,13,13,13],\"xaxis\":\"x\",\"y\":[50000,50000,50000,50000,50000,50000,50000,50000,50000,50000,50000,50000,50000,50000,50000,50000,50000,50000,50000,50000,50000,50000,50000,50000,50000,50000,50000,50000,50000,50000,50000,50000,50000,50000,50000,22000,50000,50000,50000,50000,50000,50000,50000,50000,50000,50000,50000,50000,50000,50000,50000,50000,50000,50000,50000,50000,50000,42000,50000,50000,50000,50000,50000,50000,50000,50000,50000,50000,50000,50000,50000,50000,34000,50000,50000,50000,50000,50000,50000,50000,50000,50000,50000,50000,50000,50000,50000,50000,50000,50000,50000,25000,50000,50000,50000,50000,50000,50000,50000,50000,50000,50000,50000,50000,50000,50000,50000,50000,50000,50000,50000,50000,50000,50000,50000,50000,50000,50000,50000,50000,50000,50000,50000,50000,50000,50000,50000,50000,50000,50000,50000,50000,50000,50000,50000,50000,50000,50000,50000,50000,50000,50000,50000,50000,50000,50000,50000,50000,50000,50000,50000,50000,50000,50000,50000,50000,50000,50000,50000,50000,50000,50000,50000,50000,50000,50000,50000,50000,50000,50000,50000,50000,50000,50000,50000,50000,50000,50000,50000,50000,50000,50000,50000,50000,50000,50000,50000,50000,50000,50000,50000,50000,50000,50000,50000,50000,50000,50000,50000,50000,50000,50000,50000,50000,50000,50000,50000,50000,50000,50000,50000,50000,50000,50000,50000,50000,50000,50000,50000,50000,50000,50000,50000,50000,50000,50000,50000,50000,50000,50000,50000,50000,50000,50000,50000,50000,50000,50000,50000,50000,50000,50000,50000,50000,50000,50000,50000,50000,50000,50000,50000,50000,50000,50000,50000,50000,50000,50000,50000,50000,50000,50000,50000,50000,50000],\"yaxis\":\"y\",\"type\":\"scatter\"}],                        {\"template\":{\"data\":{\"barpolar\":[{\"marker\":{\"line\":{\"color\":\"white\",\"width\":0.5},\"pattern\":{\"fillmode\":\"overlay\",\"size\":10,\"solidity\":0.2}},\"type\":\"barpolar\"}],\"bar\":[{\"error_x\":{\"color\":\"#2a3f5f\"},\"error_y\":{\"color\":\"#2a3f5f\"},\"marker\":{\"line\":{\"color\":\"white\",\"width\":0.5},\"pattern\":{\"fillmode\":\"overlay\",\"size\":10,\"solidity\":0.2}},\"type\":\"bar\"}],\"carpet\":[{\"aaxis\":{\"endlinecolor\":\"#2a3f5f\",\"gridcolor\":\"#C8D4E3\",\"linecolor\":\"#C8D4E3\",\"minorgridcolor\":\"#C8D4E3\",\"startlinecolor\":\"#2a3f5f\"},\"baxis\":{\"endlinecolor\":\"#2a3f5f\",\"gridcolor\":\"#C8D4E3\",\"linecolor\":\"#C8D4E3\",\"minorgridcolor\":\"#C8D4E3\",\"startlinecolor\":\"#2a3f5f\"},\"type\":\"carpet\"}],\"choropleth\":[{\"colorbar\":{\"outlinewidth\":0,\"ticks\":\"\"},\"type\":\"choropleth\"}],\"contourcarpet\":[{\"colorbar\":{\"outlinewidth\":0,\"ticks\":\"\"},\"type\":\"contourcarpet\"}],\"contour\":[{\"colorbar\":{\"outlinewidth\":0,\"ticks\":\"\"},\"colorscale\":[[0.0,\"#0d0887\"],[0.1111111111111111,\"#46039f\"],[0.2222222222222222,\"#7201a8\"],[0.3333333333333333,\"#9c179e\"],[0.4444444444444444,\"#bd3786\"],[0.5555555555555556,\"#d8576b\"],[0.6666666666666666,\"#ed7953\"],[0.7777777777777778,\"#fb9f3a\"],[0.8888888888888888,\"#fdca26\"],[1.0,\"#f0f921\"]],\"type\":\"contour\"}],\"heatmapgl\":[{\"colorbar\":{\"outlinewidth\":0,\"ticks\":\"\"},\"colorscale\":[[0.0,\"#0d0887\"],[0.1111111111111111,\"#46039f\"],[0.2222222222222222,\"#7201a8\"],[0.3333333333333333,\"#9c179e\"],[0.4444444444444444,\"#bd3786\"],[0.5555555555555556,\"#d8576b\"],[0.6666666666666666,\"#ed7953\"],[0.7777777777777778,\"#fb9f3a\"],[0.8888888888888888,\"#fdca26\"],[1.0,\"#f0f921\"]],\"type\":\"heatmapgl\"}],\"heatmap\":[{\"colorbar\":{\"outlinewidth\":0,\"ticks\":\"\"},\"colorscale\":[[0.0,\"#0d0887\"],[0.1111111111111111,\"#46039f\"],[0.2222222222222222,\"#7201a8\"],[0.3333333333333333,\"#9c179e\"],[0.4444444444444444,\"#bd3786\"],[0.5555555555555556,\"#d8576b\"],[0.6666666666666666,\"#ed7953\"],[0.7777777777777778,\"#fb9f3a\"],[0.8888888888888888,\"#fdca26\"],[1.0,\"#f0f921\"]],\"type\":\"heatmap\"}],\"histogram2dcontour\":[{\"colorbar\":{\"outlinewidth\":0,\"ticks\":\"\"},\"colorscale\":[[0.0,\"#0d0887\"],[0.1111111111111111,\"#46039f\"],[0.2222222222222222,\"#7201a8\"],[0.3333333333333333,\"#9c179e\"],[0.4444444444444444,\"#bd3786\"],[0.5555555555555556,\"#d8576b\"],[0.6666666666666666,\"#ed7953\"],[0.7777777777777778,\"#fb9f3a\"],[0.8888888888888888,\"#fdca26\"],[1.0,\"#f0f921\"]],\"type\":\"histogram2dcontour\"}],\"histogram2d\":[{\"colorbar\":{\"outlinewidth\":0,\"ticks\":\"\"},\"colorscale\":[[0.0,\"#0d0887\"],[0.1111111111111111,\"#46039f\"],[0.2222222222222222,\"#7201a8\"],[0.3333333333333333,\"#9c179e\"],[0.4444444444444444,\"#bd3786\"],[0.5555555555555556,\"#d8576b\"],[0.6666666666666666,\"#ed7953\"],[0.7777777777777778,\"#fb9f3a\"],[0.8888888888888888,\"#fdca26\"],[1.0,\"#f0f921\"]],\"type\":\"histogram2d\"}],\"histogram\":[{\"marker\":{\"pattern\":{\"fillmode\":\"overlay\",\"size\":10,\"solidity\":0.2}},\"type\":\"histogram\"}],\"mesh3d\":[{\"colorbar\":{\"outlinewidth\":0,\"ticks\":\"\"},\"type\":\"mesh3d\"}],\"parcoords\":[{\"line\":{\"colorbar\":{\"outlinewidth\":0,\"ticks\":\"\"}},\"type\":\"parcoords\"}],\"pie\":[{\"automargin\":true,\"type\":\"pie\"}],\"scatter3d\":[{\"line\":{\"colorbar\":{\"outlinewidth\":0,\"ticks\":\"\"}},\"marker\":{\"colorbar\":{\"outlinewidth\":0,\"ticks\":\"\"}},\"type\":\"scatter3d\"}],\"scattercarpet\":[{\"marker\":{\"colorbar\":{\"outlinewidth\":0,\"ticks\":\"\"}},\"type\":\"scattercarpet\"}],\"scattergeo\":[{\"marker\":{\"colorbar\":{\"outlinewidth\":0,\"ticks\":\"\"}},\"type\":\"scattergeo\"}],\"scattergl\":[{\"marker\":{\"colorbar\":{\"outlinewidth\":0,\"ticks\":\"\"}},\"type\":\"scattergl\"}],\"scattermapbox\":[{\"marker\":{\"colorbar\":{\"outlinewidth\":0,\"ticks\":\"\"}},\"type\":\"scattermapbox\"}],\"scatterpolargl\":[{\"marker\":{\"colorbar\":{\"outlinewidth\":0,\"ticks\":\"\"}},\"type\":\"scatterpolargl\"}],\"scatterpolar\":[{\"marker\":{\"colorbar\":{\"outlinewidth\":0,\"ticks\":\"\"}},\"type\":\"scatterpolar\"}],\"scatter\":[{\"fillpattern\":{\"fillmode\":\"overlay\",\"size\":10,\"solidity\":0.2},\"type\":\"scatter\"}],\"scatterternary\":[{\"marker\":{\"colorbar\":{\"outlinewidth\":0,\"ticks\":\"\"}},\"type\":\"scatterternary\"}],\"surface\":[{\"colorbar\":{\"outlinewidth\":0,\"ticks\":\"\"},\"colorscale\":[[0.0,\"#0d0887\"],[0.1111111111111111,\"#46039f\"],[0.2222222222222222,\"#7201a8\"],[0.3333333333333333,\"#9c179e\"],[0.4444444444444444,\"#bd3786\"],[0.5555555555555556,\"#d8576b\"],[0.6666666666666666,\"#ed7953\"],[0.7777777777777778,\"#fb9f3a\"],[0.8888888888888888,\"#fdca26\"],[1.0,\"#f0f921\"]],\"type\":\"surface\"}],\"table\":[{\"cells\":{\"fill\":{\"color\":\"#EBF0F8\"},\"line\":{\"color\":\"white\"}},\"header\":{\"fill\":{\"color\":\"#C8D4E3\"},\"line\":{\"color\":\"white\"}},\"type\":\"table\"}]},\"layout\":{\"annotationdefaults\":{\"arrowcolor\":\"#2a3f5f\",\"arrowhead\":0,\"arrowwidth\":1},\"autotypenumbers\":\"strict\",\"coloraxis\":{\"colorbar\":{\"outlinewidth\":0,\"ticks\":\"\"}},\"colorscale\":{\"diverging\":[[0,\"#8e0152\"],[0.1,\"#c51b7d\"],[0.2,\"#de77ae\"],[0.3,\"#f1b6da\"],[0.4,\"#fde0ef\"],[0.5,\"#f7f7f7\"],[0.6,\"#e6f5d0\"],[0.7,\"#b8e186\"],[0.8,\"#7fbc41\"],[0.9,\"#4d9221\"],[1,\"#276419\"]],\"sequential\":[[0.0,\"#0d0887\"],[0.1111111111111111,\"#46039f\"],[0.2222222222222222,\"#7201a8\"],[0.3333333333333333,\"#9c179e\"],[0.4444444444444444,\"#bd3786\"],[0.5555555555555556,\"#d8576b\"],[0.6666666666666666,\"#ed7953\"],[0.7777777777777778,\"#fb9f3a\"],[0.8888888888888888,\"#fdca26\"],[1.0,\"#f0f921\"]],\"sequentialminus\":[[0.0,\"#0d0887\"],[0.1111111111111111,\"#46039f\"],[0.2222222222222222,\"#7201a8\"],[0.3333333333333333,\"#9c179e\"],[0.4444444444444444,\"#bd3786\"],[0.5555555555555556,\"#d8576b\"],[0.6666666666666666,\"#ed7953\"],[0.7777777777777778,\"#fb9f3a\"],[0.8888888888888888,\"#fdca26\"],[1.0,\"#f0f921\"]]},\"colorway\":[\"#636efa\",\"#EF553B\",\"#00cc96\",\"#ab63fa\",\"#FFA15A\",\"#19d3f3\",\"#FF6692\",\"#B6E880\",\"#FF97FF\",\"#FECB52\"],\"font\":{\"color\":\"#2a3f5f\"},\"geo\":{\"bgcolor\":\"white\",\"lakecolor\":\"white\",\"landcolor\":\"white\",\"showlakes\":true,\"showland\":true,\"subunitcolor\":\"#C8D4E3\"},\"hoverlabel\":{\"align\":\"left\"},\"hovermode\":\"closest\",\"mapbox\":{\"style\":\"light\"},\"paper_bgcolor\":\"white\",\"plot_bgcolor\":\"white\",\"polar\":{\"angularaxis\":{\"gridcolor\":\"#EBF0F8\",\"linecolor\":\"#EBF0F8\",\"ticks\":\"\"},\"bgcolor\":\"white\",\"radialaxis\":{\"gridcolor\":\"#EBF0F8\",\"linecolor\":\"#EBF0F8\",\"ticks\":\"\"}},\"scene\":{\"xaxis\":{\"backgroundcolor\":\"white\",\"gridcolor\":\"#DFE8F3\",\"gridwidth\":2,\"linecolor\":\"#EBF0F8\",\"showbackground\":true,\"ticks\":\"\",\"zerolinecolor\":\"#EBF0F8\"},\"yaxis\":{\"backgroundcolor\":\"white\",\"gridcolor\":\"#DFE8F3\",\"gridwidth\":2,\"linecolor\":\"#EBF0F8\",\"showbackground\":true,\"ticks\":\"\",\"zerolinecolor\":\"#EBF0F8\"},\"zaxis\":{\"backgroundcolor\":\"white\",\"gridcolor\":\"#DFE8F3\",\"gridwidth\":2,\"linecolor\":\"#EBF0F8\",\"showbackground\":true,\"ticks\":\"\",\"zerolinecolor\":\"#EBF0F8\"}},\"shapedefaults\":{\"line\":{\"color\":\"#2a3f5f\"}},\"ternary\":{\"aaxis\":{\"gridcolor\":\"#DFE8F3\",\"linecolor\":\"#A2B1C6\",\"ticks\":\"\"},\"baxis\":{\"gridcolor\":\"#DFE8F3\",\"linecolor\":\"#A2B1C6\",\"ticks\":\"\"},\"bgcolor\":\"white\",\"caxis\":{\"gridcolor\":\"#DFE8F3\",\"linecolor\":\"#A2B1C6\",\"ticks\":\"\"}},\"title\":{\"x\":0.05},\"xaxis\":{\"automargin\":true,\"gridcolor\":\"#EBF0F8\",\"linecolor\":\"#EBF0F8\",\"ticks\":\"\",\"title\":{\"standoff\":15},\"zerolinecolor\":\"#EBF0F8\",\"zerolinewidth\":2},\"yaxis\":{\"automargin\":true,\"gridcolor\":\"#EBF0F8\",\"linecolor\":\"#EBF0F8\",\"ticks\":\"\",\"title\":{\"standoff\":15},\"zerolinecolor\":\"#EBF0F8\",\"zerolinewidth\":2}}},\"xaxis\":{\"anchor\":\"y\",\"domain\":[0.0,1.0],\"title\":{\"text\":\"Event Time_hour\"},\"tickfont\":{\"size\":12},\"tickangle\":0},\"yaxis\":{\"anchor\":\"x\",\"domain\":[0.0,1.0],\"title\":{\"text\":\"Transaction Amount\"}},\"coloraxis\":{\"colorbar\":{\"title\":{\"text\":\"Policy Score\"}},\"colorscale\":[[0.0,\"#0d0887\"],[0.1111111111111111,\"#46039f\"],[0.2222222222222222,\"#7201a8\"],[0.3333333333333333,\"#9c179e\"],[0.4444444444444444,\"#bd3786\"],[0.5555555555555556,\"#d8576b\"],[0.6666666666666666,\"#ed7953\"],[0.7777777777777778,\"#fb9f3a\"],[0.8888888888888888,\"#fdca26\"],[1.0,\"#f0f921\"]]},\"legend\":{\"tracegroupgap\":0},\"margin\":{\"t\":60},\"height\":500,\"width\":800,\"uniformtext\":{\"minsize\":12},\"showlegend\":true},                        {\"responsive\": true}                    ).then(function(){\n",
       "                            \n",
       "var gd = document.getElementById('4fea0ea7-d3ec-4c55-83a9-c6b830a513f2');\n",
       "var x = new MutationObserver(function (mutations, observer) {{\n",
       "        var display = window.getComputedStyle(gd).display;\n",
       "        if (!display || display === 'none') {{\n",
       "            console.log([gd, 'removed!']);\n",
       "            Plotly.purge(gd);\n",
       "            observer.disconnect();\n",
       "        }}\n",
       "}});\n",
       "\n",
       "// Listen for the removal of the full notebook cells\n",
       "var notebookContainer = gd.closest('#notebook-container');\n",
       "if (notebookContainer) {{\n",
       "    x.observe(notebookContainer, {childList: true});\n",
       "}}\n",
       "\n",
       "// Listen for the clearing of the current output cell\n",
       "var outputEl = gd.closest('.output');\n",
       "if (outputEl) {{\n",
       "    x.observe(outputEl, {childList: true});\n",
       "}}\n",
       "\n",
       "                        })                };                });            </script>        </div>"
      ]
     },
     "metadata": {},
     "output_type": "display_data"
    }
   ],
   "source": [
    "### Plot graph to see more information about time (in hour) and transaction amount\n",
    "\n",
    "fig = px.scatter(data_frame = df,\n",
    "                 x = 'Event Time_hour', y = 'Transaction Amount', color = 'Policy Score',\n",
    "                 template = 'plotly_white', width = 800, height = 500)\n",
    "fig.update_layout(showlegend = True, uniformtext_minsize = 12, xaxis_tickangle = 0, xaxis_tickfont_size = 12)\n",
    "fig.show()"
   ]
  },
  {
   "cell_type": "code",
   "execution_count": 98,
   "id": "70c42186",
   "metadata": {},
   "outputs": [
    {
     "data": {
      "text/plain": [
       "<AxesSubplot:xlabel='Event Time_hour', ylabel='count'>"
      ]
     },
     "execution_count": 98,
     "metadata": {},
     "output_type": "execute_result"
    },
    {
     "data": {
      "image/png": "[encoded data removed]",
      "text/plain": [
       "<Figure size 864x432 with 1 Axes>"
      ]
     },
     "metadata": {
      "image/png": {
       "height": 370,
       "width": 715
      }
     },
     "output_type": "display_data"
    }
   ],
   "source": [
    "### Plot graph to see the concentration of transaction in each hour\n",
    "\n",
    "plt.figure(figsize = (12,6))\n",
    "sns.countplot(data = df, x = 'Event Time_hour')"
   ]
  }
 ],
 "metadata": {
  "kernelspec": {
   "display_name": "Python 3 (ipykernel)",
   "language": "python",
   "name": "python3"
  },
  "language_info": {
   "codemirror_mode": {
    "name": "ipython",
    "version": 3
   },
   "file_extension": ".py",
   "mimetype": "text/x-python",
   "name": "python",
   "nbconvert_exporter": "python",
   "pygments_lexer": "ipython3",
   "version": "3.9.7"
  }
 },
 "nbformat": 4,
 "nbformat_minor": 5
}
